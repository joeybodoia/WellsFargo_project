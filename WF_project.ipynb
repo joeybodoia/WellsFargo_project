{
 "cells": [
  {
   "cell_type": "code",
   "execution_count": 587,
   "id": "39af966f",
   "metadata": {},
   "outputs": [],
   "source": [
    "from sklego.linear_model import DemographicParityClassifier"
   ]
  },
  {
   "cell_type": "code",
   "execution_count": 588,
   "id": "cd1284e6",
   "metadata": {},
   "outputs": [],
   "source": [
    "from sklearn.preprocessing import StandardScaler\n",
    "from sklearn.model_selection import train_test_split, cross_val_predict, GridSearchCV, cross_val_score, RepeatedStratifiedKFold, cross_validate\n",
    "from sklearn.metrics import accuracy_score, precision_score, recall_score, f1_score, confusion_matrix, classification_report\n",
    "from sklearn.linear_model import LogisticRegression\n",
    "from sklearn.metrics import make_scorer\n",
    "from sklearn.metrics import fbeta_score\n",
    "from sklego.metrics import p_percent_score\n",
    "from statistics import mean\n",
    "from sklego.metrics import equal_opportunity_score"
   ]
  },
  {
   "cell_type": "code",
   "execution_count": 589,
   "id": "736c0336",
   "metadata": {},
   "outputs": [],
   "source": [
    "from sklearn.linear_model import LogisticRegression\n",
    "from sklearn.neural_network import MLPClassifier"
   ]
  },
  {
   "cell_type": "code",
   "execution_count": 590,
   "id": "3f566b1d",
   "metadata": {},
   "outputs": [],
   "source": [
    "from sklearn.naive_bayes import GaussianNB\n",
    "from sklearn.svm import SVC \n",
    "from sklearn.tree import DecisionTreeClassifier\n",
    "from sklearn.neighbors import KNeighborsClassifier\n",
    "from sklearn.ensemble import RandomForestClassifier\n",
    "from sklego.linear_model import EqualOpportunityClassifier"
   ]
  },
  {
   "cell_type": "code",
   "execution_count": 591,
   "id": "f76f05a7",
   "metadata": {},
   "outputs": [],
   "source": [
    "from sklego.preprocessing import InformationFilter\n",
    "from sklearn.model_selection import RandomizedSearchCV"
   ]
  },
  {
   "cell_type": "code",
   "execution_count": 592,
   "id": "f3c142f4",
   "metadata": {},
   "outputs": [],
   "source": [
    "import pandas as pd"
   ]
  },
  {
   "cell_type": "code",
   "execution_count": 593,
   "id": "2511323e",
   "metadata": {},
   "outputs": [],
   "source": [
    "import numpy as np\n",
    "import matplotlib.pylab as plt"
   ]
  },
  {
   "cell_type": "code",
   "execution_count": 594,
   "id": "7e21aa4c",
   "metadata": {},
   "outputs": [],
   "source": [
    "# column names\n",
    "cols = ['existing_checking', 'duration(months)', 'credit_history', 'purpose', 'credit_amount',\n",
    "         'savings_account', 'employment_since', 'installment_rate', 'status_and_sex', 'other_debtors',\n",
    "         'residence_since', 'property', 'age', 'other_installment_plans', 'housing',\n",
    "         'existing_credits', 'job', 'people_liable', 'telephone', 'foreign_worker', 'classification']"
   ]
  },
  {
   "cell_type": "code",
   "execution_count": 595,
   "id": "0542f29c",
   "metadata": {},
   "outputs": [],
   "source": [
    "# load data\n",
    "df=pd.read_csv(\"http://archive.ics.uci.edu/ml/machine-learning-databases/statlog/german/german.data\", names= cols, delimiter=' ')"
   ]
  },
  {
   "cell_type": "code",
   "execution_count": 596,
   "id": "894d6c50",
   "metadata": {},
   "outputs": [
    {
     "data": {
      "text/html": [
       "<div>\n",
       "<style scoped>\n",
       "    .dataframe tbody tr th:only-of-type {\n",
       "        vertical-align: middle;\n",
       "    }\n",
       "\n",
       "    .dataframe tbody tr th {\n",
       "        vertical-align: top;\n",
       "    }\n",
       "\n",
       "    .dataframe thead th {\n",
       "        text-align: right;\n",
       "    }\n",
       "</style>\n",
       "<table border=\"1\" class=\"dataframe\">\n",
       "  <thead>\n",
       "    <tr style=\"text-align: right;\">\n",
       "      <th></th>\n",
       "      <th>existing_checking</th>\n",
       "      <th>duration(months)</th>\n",
       "      <th>credit_history</th>\n",
       "      <th>purpose</th>\n",
       "      <th>credit_amount</th>\n",
       "      <th>savings_account</th>\n",
       "      <th>employment_since</th>\n",
       "      <th>installment_rate</th>\n",
       "      <th>status_and_sex</th>\n",
       "      <th>other_debtors</th>\n",
       "      <th>...</th>\n",
       "      <th>property</th>\n",
       "      <th>age</th>\n",
       "      <th>other_installment_plans</th>\n",
       "      <th>housing</th>\n",
       "      <th>existing_credits</th>\n",
       "      <th>job</th>\n",
       "      <th>people_liable</th>\n",
       "      <th>telephone</th>\n",
       "      <th>foreign_worker</th>\n",
       "      <th>classification</th>\n",
       "    </tr>\n",
       "  </thead>\n",
       "  <tbody>\n",
       "    <tr>\n",
       "      <th>0</th>\n",
       "      <td>A11</td>\n",
       "      <td>6</td>\n",
       "      <td>A34</td>\n",
       "      <td>A43</td>\n",
       "      <td>1169</td>\n",
       "      <td>A65</td>\n",
       "      <td>A75</td>\n",
       "      <td>4</td>\n",
       "      <td>A93</td>\n",
       "      <td>A101</td>\n",
       "      <td>...</td>\n",
       "      <td>A121</td>\n",
       "      <td>67</td>\n",
       "      <td>A143</td>\n",
       "      <td>A152</td>\n",
       "      <td>2</td>\n",
       "      <td>A173</td>\n",
       "      <td>1</td>\n",
       "      <td>A192</td>\n",
       "      <td>A201</td>\n",
       "      <td>1</td>\n",
       "    </tr>\n",
       "    <tr>\n",
       "      <th>1</th>\n",
       "      <td>A12</td>\n",
       "      <td>48</td>\n",
       "      <td>A32</td>\n",
       "      <td>A43</td>\n",
       "      <td>5951</td>\n",
       "      <td>A61</td>\n",
       "      <td>A73</td>\n",
       "      <td>2</td>\n",
       "      <td>A92</td>\n",
       "      <td>A101</td>\n",
       "      <td>...</td>\n",
       "      <td>A121</td>\n",
       "      <td>22</td>\n",
       "      <td>A143</td>\n",
       "      <td>A152</td>\n",
       "      <td>1</td>\n",
       "      <td>A173</td>\n",
       "      <td>1</td>\n",
       "      <td>A191</td>\n",
       "      <td>A201</td>\n",
       "      <td>2</td>\n",
       "    </tr>\n",
       "    <tr>\n",
       "      <th>2</th>\n",
       "      <td>A14</td>\n",
       "      <td>12</td>\n",
       "      <td>A34</td>\n",
       "      <td>A46</td>\n",
       "      <td>2096</td>\n",
       "      <td>A61</td>\n",
       "      <td>A74</td>\n",
       "      <td>2</td>\n",
       "      <td>A93</td>\n",
       "      <td>A101</td>\n",
       "      <td>...</td>\n",
       "      <td>A121</td>\n",
       "      <td>49</td>\n",
       "      <td>A143</td>\n",
       "      <td>A152</td>\n",
       "      <td>1</td>\n",
       "      <td>A172</td>\n",
       "      <td>2</td>\n",
       "      <td>A191</td>\n",
       "      <td>A201</td>\n",
       "      <td>1</td>\n",
       "    </tr>\n",
       "    <tr>\n",
       "      <th>3</th>\n",
       "      <td>A11</td>\n",
       "      <td>42</td>\n",
       "      <td>A32</td>\n",
       "      <td>A42</td>\n",
       "      <td>7882</td>\n",
       "      <td>A61</td>\n",
       "      <td>A74</td>\n",
       "      <td>2</td>\n",
       "      <td>A93</td>\n",
       "      <td>A103</td>\n",
       "      <td>...</td>\n",
       "      <td>A122</td>\n",
       "      <td>45</td>\n",
       "      <td>A143</td>\n",
       "      <td>A153</td>\n",
       "      <td>1</td>\n",
       "      <td>A173</td>\n",
       "      <td>2</td>\n",
       "      <td>A191</td>\n",
       "      <td>A201</td>\n",
       "      <td>1</td>\n",
       "    </tr>\n",
       "    <tr>\n",
       "      <th>4</th>\n",
       "      <td>A11</td>\n",
       "      <td>24</td>\n",
       "      <td>A33</td>\n",
       "      <td>A40</td>\n",
       "      <td>4870</td>\n",
       "      <td>A61</td>\n",
       "      <td>A73</td>\n",
       "      <td>3</td>\n",
       "      <td>A93</td>\n",
       "      <td>A101</td>\n",
       "      <td>...</td>\n",
       "      <td>A124</td>\n",
       "      <td>53</td>\n",
       "      <td>A143</td>\n",
       "      <td>A153</td>\n",
       "      <td>2</td>\n",
       "      <td>A173</td>\n",
       "      <td>2</td>\n",
       "      <td>A191</td>\n",
       "      <td>A201</td>\n",
       "      <td>2</td>\n",
       "    </tr>\n",
       "    <tr>\n",
       "      <th>5</th>\n",
       "      <td>A14</td>\n",
       "      <td>36</td>\n",
       "      <td>A32</td>\n",
       "      <td>A46</td>\n",
       "      <td>9055</td>\n",
       "      <td>A65</td>\n",
       "      <td>A73</td>\n",
       "      <td>2</td>\n",
       "      <td>A93</td>\n",
       "      <td>A101</td>\n",
       "      <td>...</td>\n",
       "      <td>A124</td>\n",
       "      <td>35</td>\n",
       "      <td>A143</td>\n",
       "      <td>A153</td>\n",
       "      <td>1</td>\n",
       "      <td>A172</td>\n",
       "      <td>2</td>\n",
       "      <td>A192</td>\n",
       "      <td>A201</td>\n",
       "      <td>1</td>\n",
       "    </tr>\n",
       "    <tr>\n",
       "      <th>6</th>\n",
       "      <td>A14</td>\n",
       "      <td>24</td>\n",
       "      <td>A32</td>\n",
       "      <td>A42</td>\n",
       "      <td>2835</td>\n",
       "      <td>A63</td>\n",
       "      <td>A75</td>\n",
       "      <td>3</td>\n",
       "      <td>A93</td>\n",
       "      <td>A101</td>\n",
       "      <td>...</td>\n",
       "      <td>A122</td>\n",
       "      <td>53</td>\n",
       "      <td>A143</td>\n",
       "      <td>A152</td>\n",
       "      <td>1</td>\n",
       "      <td>A173</td>\n",
       "      <td>1</td>\n",
       "      <td>A191</td>\n",
       "      <td>A201</td>\n",
       "      <td>1</td>\n",
       "    </tr>\n",
       "    <tr>\n",
       "      <th>7</th>\n",
       "      <td>A12</td>\n",
       "      <td>36</td>\n",
       "      <td>A32</td>\n",
       "      <td>A41</td>\n",
       "      <td>6948</td>\n",
       "      <td>A61</td>\n",
       "      <td>A73</td>\n",
       "      <td>2</td>\n",
       "      <td>A93</td>\n",
       "      <td>A101</td>\n",
       "      <td>...</td>\n",
       "      <td>A123</td>\n",
       "      <td>35</td>\n",
       "      <td>A143</td>\n",
       "      <td>A151</td>\n",
       "      <td>1</td>\n",
       "      <td>A174</td>\n",
       "      <td>1</td>\n",
       "      <td>A192</td>\n",
       "      <td>A201</td>\n",
       "      <td>1</td>\n",
       "    </tr>\n",
       "    <tr>\n",
       "      <th>8</th>\n",
       "      <td>A14</td>\n",
       "      <td>12</td>\n",
       "      <td>A32</td>\n",
       "      <td>A43</td>\n",
       "      <td>3059</td>\n",
       "      <td>A64</td>\n",
       "      <td>A74</td>\n",
       "      <td>2</td>\n",
       "      <td>A91</td>\n",
       "      <td>A101</td>\n",
       "      <td>...</td>\n",
       "      <td>A121</td>\n",
       "      <td>61</td>\n",
       "      <td>A143</td>\n",
       "      <td>A152</td>\n",
       "      <td>1</td>\n",
       "      <td>A172</td>\n",
       "      <td>1</td>\n",
       "      <td>A191</td>\n",
       "      <td>A201</td>\n",
       "      <td>1</td>\n",
       "    </tr>\n",
       "    <tr>\n",
       "      <th>9</th>\n",
       "      <td>A12</td>\n",
       "      <td>30</td>\n",
       "      <td>A34</td>\n",
       "      <td>A40</td>\n",
       "      <td>5234</td>\n",
       "      <td>A61</td>\n",
       "      <td>A71</td>\n",
       "      <td>4</td>\n",
       "      <td>A94</td>\n",
       "      <td>A101</td>\n",
       "      <td>...</td>\n",
       "      <td>A123</td>\n",
       "      <td>28</td>\n",
       "      <td>A143</td>\n",
       "      <td>A152</td>\n",
       "      <td>2</td>\n",
       "      <td>A174</td>\n",
       "      <td>1</td>\n",
       "      <td>A191</td>\n",
       "      <td>A201</td>\n",
       "      <td>2</td>\n",
       "    </tr>\n",
       "  </tbody>\n",
       "</table>\n",
       "<p>10 rows × 21 columns</p>\n",
       "</div>"
      ],
      "text/plain": [
       "  existing_checking  duration(months) credit_history purpose  credit_amount  \\\n",
       "0               A11                 6            A34     A43           1169   \n",
       "1               A12                48            A32     A43           5951   \n",
       "2               A14                12            A34     A46           2096   \n",
       "3               A11                42            A32     A42           7882   \n",
       "4               A11                24            A33     A40           4870   \n",
       "5               A14                36            A32     A46           9055   \n",
       "6               A14                24            A32     A42           2835   \n",
       "7               A12                36            A32     A41           6948   \n",
       "8               A14                12            A32     A43           3059   \n",
       "9               A12                30            A34     A40           5234   \n",
       "\n",
       "  savings_account employment_since  installment_rate status_and_sex  \\\n",
       "0             A65              A75                 4            A93   \n",
       "1             A61              A73                 2            A92   \n",
       "2             A61              A74                 2            A93   \n",
       "3             A61              A74                 2            A93   \n",
       "4             A61              A73                 3            A93   \n",
       "5             A65              A73                 2            A93   \n",
       "6             A63              A75                 3            A93   \n",
       "7             A61              A73                 2            A93   \n",
       "8             A64              A74                 2            A91   \n",
       "9             A61              A71                 4            A94   \n",
       "\n",
       "  other_debtors  ...  property age  other_installment_plans housing  \\\n",
       "0          A101  ...      A121  67                     A143    A152   \n",
       "1          A101  ...      A121  22                     A143    A152   \n",
       "2          A101  ...      A121  49                     A143    A152   \n",
       "3          A103  ...      A122  45                     A143    A153   \n",
       "4          A101  ...      A124  53                     A143    A153   \n",
       "5          A101  ...      A124  35                     A143    A153   \n",
       "6          A101  ...      A122  53                     A143    A152   \n",
       "7          A101  ...      A123  35                     A143    A151   \n",
       "8          A101  ...      A121  61                     A143    A152   \n",
       "9          A101  ...      A123  28                     A143    A152   \n",
       "\n",
       "  existing_credits   job people_liable  telephone foreign_worker  \\\n",
       "0                2  A173             1       A192           A201   \n",
       "1                1  A173             1       A191           A201   \n",
       "2                1  A172             2       A191           A201   \n",
       "3                1  A173             2       A191           A201   \n",
       "4                2  A173             2       A191           A201   \n",
       "5                1  A172             2       A192           A201   \n",
       "6                1  A173             1       A191           A201   \n",
       "7                1  A174             1       A192           A201   \n",
       "8                1  A172             1       A191           A201   \n",
       "9                2  A174             1       A191           A201   \n",
       "\n",
       "  classification  \n",
       "0              1  \n",
       "1              2  \n",
       "2              1  \n",
       "3              1  \n",
       "4              2  \n",
       "5              1  \n",
       "6              1  \n",
       "7              1  \n",
       "8              1  \n",
       "9              2  \n",
       "\n",
       "[10 rows x 21 columns]"
      ]
     },
     "execution_count": 596,
     "metadata": {},
     "output_type": "execute_result"
    }
   ],
   "source": [
    "df.head(10)"
   ]
  },
  {
   "cell_type": "code",
   "execution_count": 597,
   "id": "f1dfc739",
   "metadata": {},
   "outputs": [],
   "source": [
    "#df.describe()"
   ]
  },
  {
   "cell_type": "code",
   "execution_count": 598,
   "id": "11131814",
   "metadata": {},
   "outputs": [],
   "source": [
    "# numerical features\n",
    "num_features = ['credit_amount', 'duration(months)', 'installment_rate', 'residence_since', 'age',\n",
    "           'existing_credits', 'people_liable']"
   ]
  },
  {
   "cell_type": "code",
   "execution_count": 599,
   "id": "3c6f4d79",
   "metadata": {},
   "outputs": [],
   "source": [
    "# normalize data\n",
    "df[num_features] = StandardScaler().fit_transform(df[num_features])"
   ]
  },
  {
   "cell_type": "code",
   "execution_count": 600,
   "id": "754fcd70",
   "metadata": {},
   "outputs": [],
   "source": [
    "# categorical features\n",
    "cat_features = ['existing_checking', 'credit_history', 'purpose', 'savings_account', 'employment_since',\n",
    "            'other_debtors', 'property', 'other_installment_plans', 'housing', 'job',\n",
    "           'telephone', 'foreign_worker']"
   ]
  },
  {
   "cell_type": "markdown",
   "id": "fbfdc676",
   "metadata": {},
   "source": [
    "## feature engineering attribute 9"
   ]
  },
  {
   "cell_type": "code",
   "execution_count": 601,
   "id": "fe7e6f33",
   "metadata": {},
   "outputs": [],
   "source": [
    "# create gender column and personal_status column\n",
    "df['gender'] = np.nan\n",
    "df['personal_status'] = np.nan"
   ]
  },
  {
   "cell_type": "code",
   "execution_count": 602,
   "id": "785d11f7",
   "metadata": {},
   "outputs": [],
   "source": [
    "# separate attribute 9 (sex_and_status) into two columns: gender, personal_status\n",
    "for index, row in df.iterrows():\n",
    "    if row['status_and_sex'] == 'A91':\n",
    "        # male\n",
    "        df.loc[index, 'gender'] = 0\n",
    "\n",
    "        # divorced/separated\n",
    "        df.loc[index, 'personal_status'] = 1\n",
    "\n",
    "        #print('mutated row = ', df.iloc[index])\n",
    "    if row['status_and_sex'] == 'A92':\n",
    "        # female\n",
    "        df.loc[index, 'gender'] = 1\n",
    "        # divorced/separated/married\n",
    "        df.loc[index, 'personal_status'] = 1\n",
    "\n",
    "    if row['status_and_sex'] == 'A93':\n",
    "        # male\n",
    "        df.loc[index, 'gender'] = 0\n",
    "        # single\n",
    "        df.loc[index, 'personal_status'] = 0\n",
    "\n",
    "    if row['status_and_sex'] == 'A94':\n",
    "        # male\n",
    "        df.loc[index, 'gender'] = 0\n",
    "        # married/widowed\n",
    "        df.loc[index, 'personal_status'] = 1\n",
    "\n",
    "    if row['status_and_sex'] == 'A95':\n",
    "        # female\n",
    "        df.loc[index, 'gender'] = 1\n",
    "        # single\n",
    "        df.loc[index, 'personal_status'] = 0"
   ]
  },
  {
   "cell_type": "code",
   "execution_count": 603,
   "id": "f4b1eba0",
   "metadata": {},
   "outputs": [],
   "source": [
    "# gain insight into the distribution of approvals for men and women\n",
    "approved_men = 0\n",
    "approved_women = 0\n",
    "for index, row in df.iterrows():\n",
    "    if row['gender'] == 0 and row['classification'] == 1:\n",
    "        approved_men += 1\n",
    "    if row['gender'] == 1 and row['classification'] == 1:\n",
    "        approved_women += 1"
   ]
  },
  {
   "cell_type": "code",
   "execution_count": 636,
   "id": "903ec90e",
   "metadata": {},
   "outputs": [
    {
     "data": {
      "text/plain": [
       "0      0.0\n",
       "1      1.0\n",
       "2      0.0\n",
       "3      0.0\n",
       "4      0.0\n",
       "      ... \n",
       "995    1.0\n",
       "996    0.0\n",
       "997    0.0\n",
       "998    0.0\n",
       "999    0.0\n",
       "Name: gender, Length: 1000, dtype: float64"
      ]
     },
     "execution_count": 636,
     "metadata": {},
     "output_type": "execute_result"
    }
   ],
   "source": [
    "df['gender']"
   ]
  },
  {
   "cell_type": "code",
   "execution_count": 637,
   "id": "5726a159",
   "metadata": {},
   "outputs": [
    {
     "data": {
      "text/plain": [
       "0      0.0\n",
       "1      1.0\n",
       "2      0.0\n",
       "3      0.0\n",
       "4      0.0\n",
       "      ... \n",
       "995    1.0\n",
       "996    1.0\n",
       "997    0.0\n",
       "998    0.0\n",
       "999    0.0\n",
       "Name: personal_status, Length: 1000, dtype: float64"
      ]
     },
     "execution_count": 637,
     "metadata": {},
     "output_type": "execute_result"
    }
   ],
   "source": [
    "df['personal_status']"
   ]
  },
  {
   "cell_type": "code",
   "execution_count": 604,
   "id": "7ff848b2",
   "metadata": {},
   "outputs": [
    {
     "data": {
      "text/plain": [
       "499"
      ]
     },
     "execution_count": 604,
     "metadata": {},
     "output_type": "execute_result"
    }
   ],
   "source": [
    "approved_men"
   ]
  },
  {
   "cell_type": "code",
   "execution_count": 605,
   "id": "263f4914",
   "metadata": {},
   "outputs": [
    {
     "data": {
      "text/plain": [
       "201"
      ]
     },
     "execution_count": 605,
     "metadata": {},
     "output_type": "execute_result"
    }
   ],
   "source": [
    "approved_women"
   ]
  },
  {
   "cell_type": "code",
   "execution_count": 606,
   "id": "b589fadb",
   "metadata": {},
   "outputs": [],
   "source": [
    "# NOTE: There are 3 different ways we would like to train our data,\n",
    "# 1. Dataset containing all original information (including gender)\n",
    "# 2. Dataset not containing gender (fairness through unawareness) for a baseline comparison\n",
    "# 3. Dataset with information filter on gender column"
   ]
  },
  {
   "cell_type": "code",
   "execution_count": 607,
   "id": "469f5e88",
   "metadata": {},
   "outputs": [],
   "source": [
    "# now that we've separated sex_status into two columns, we can now delete the sex_status column\n",
    "#df['original_index'] = df.index\n",
    "df = df.drop('status_and_sex', axis=1)\n",
    "# use fairness through unawareness (dropping gender column before training) for baseline comparative model\n",
    "df_unaware = df.drop('gender', axis=1)\n",
    "# information filter on\n",
    "df_infoFilter = df"
   ]
  },
  {
   "cell_type": "code",
   "execution_count": 608,
   "id": "0543b909",
   "metadata": {},
   "outputs": [],
   "source": [
    "# one-hot encoding each of every categorical features\n",
    "df = pd.get_dummies(df, columns = cat_features)\n",
    "df_unaware = pd.get_dummies(df_unaware, columns = cat_features)\n",
    "df_infoFilter = pd.get_dummies(df_infoFilter, columns = cat_features)"
   ]
  },
  {
   "cell_type": "markdown",
   "id": "df8f8833",
   "metadata": {},
   "source": [
    "## correlation"
   ]
  },
  {
   "cell_type": "code",
   "execution_count": 609,
   "id": "1bb280fc",
   "metadata": {},
   "outputs": [],
   "source": [
    "gender_corr = pd.DataFrame(df.corr(method='pearson').gender)"
   ]
  },
  {
   "cell_type": "code",
   "execution_count": 610,
   "id": "e28175ce",
   "metadata": {},
   "outputs": [],
   "source": [
    "#gender_corr.sort_values(by=['gender'])"
   ]
  },
  {
   "cell_type": "code",
   "execution_count": null,
   "id": "8b20ae5e",
   "metadata": {},
   "outputs": [],
   "source": []
  },
  {
   "cell_type": "code",
   "execution_count": 611,
   "id": "23f76bff",
   "metadata": {},
   "outputs": [],
   "source": [
    "# define x as all columns except for last column which contains labels\n",
    "x = df.drop('classification', axis = 1)\n",
    "# same for baseline df\n",
    "x_unaware = df_unaware.drop('classification', axis=1)"
   ]
  },
  {
   "cell_type": "code",
   "execution_count": 612,
   "id": "5b27bfab",
   "metadata": {},
   "outputs": [],
   "source": [
    "# information filter on gender column\n",
    "x_infoFilter = InformationFilter(['gender']).fit_transform(df_infoFilter)\n",
    "x_infoFilter = pd.DataFrame(x_infoFilter, columns=[n for n in df.columns if n not in ['gender']])"
   ]
  },
  {
   "cell_type": "code",
   "execution_count": 613,
   "id": "93752b49",
   "metadata": {},
   "outputs": [],
   "source": [
    "x_infoFilter = x_infoFilter.drop('classification', axis=1)"
   ]
  },
  {
   "cell_type": "code",
   "execution_count": 614,
   "id": "5ec266cc",
   "metadata": {},
   "outputs": [],
   "source": [
    "# replace labels with 1=good, 0=bad\n",
    "df.classification.replace([1,2], [1,0], inplace=True)\n",
    "y = df.classification\n",
    "\n",
    "df_unaware.classification.replace([1,2], [1,0], inplace=True)\n",
    "y_unaware = df_unaware.classification"
   ]
  },
  {
   "cell_type": "code",
   "execution_count": 615,
   "id": "613aa7b2",
   "metadata": {},
   "outputs": [],
   "source": [
    "# 80/20 split for train/test, which is used to compute p_percent_score\n",
    "xtrain, xtest, ytrain, ytest = train_test_split(x, y, test_size = 0.2, random_state = 0)\n",
    "\n",
    "xtrain_infoFilter, xtest_infoFilter, ytrain_infoFilter, ytest_infoFilter = train_test_split(x_infoFilter, y, test_size = 0.2, random_state = 0)\n",
    "\n",
    "xtrain_unaware, xtest_unware, ytrain_unaware, ytest_unware = train_test_split(x_unaware, y_unaware, test_size = 0.2, random_state = 0)"
   ]
  },
  {
   "cell_type": "code",
   "execution_count": 616,
   "id": "42f303db",
   "metadata": {},
   "outputs": [],
   "source": [
    "#xtrain.columns"
   ]
  },
  {
   "cell_type": "code",
   "execution_count": 617,
   "id": "45ab0f20",
   "metadata": {},
   "outputs": [],
   "source": [
    "# define cross-validation procedure\n",
    "cv = RepeatedStratifiedKFold(n_splits=10, n_repeats=3, random_state=1)"
   ]
  },
  {
   "cell_type": "code",
   "execution_count": 618,
   "id": "4301d048",
   "metadata": {},
   "outputs": [],
   "source": [
    "# model evaluation metrics \n",
    "f2 = make_scorer(fbeta_score, beta=2)\n",
    "mean_accuracy=[]\n",
    "mean_f2=[]\n",
    "mean_precision=[]\n",
    "mean_recall=[]\n",
    "accuracy_std=[]\n",
    "p_percents=[]\n",
    "equal_opp=[]"
   ]
  },
  {
   "cell_type": "code",
   "execution_count": 619,
   "id": "da5342fd",
   "metadata": {},
   "outputs": [],
   "source": [
    "# baseline model evaluation metrics\n",
    "f2_unaware = make_scorer(fbeta_score, beta=2)\n",
    "mean_accuracy_unaware=[]\n",
    "mean_f2_unaware=[]\n",
    "mean_precision_unaware=[]\n",
    "mean_recall_unaware=[]\n",
    "accuracy_std_unaware=[]\n",
    "p_percents_unaware=[]\n",
    "equal_opp_unaware=[]"
   ]
  },
  {
   "cell_type": "code",
   "execution_count": 620,
   "id": "b00d8e7c",
   "metadata": {},
   "outputs": [],
   "source": [
    "# information filter model evaluation metrics\n",
    "f2_infoFilter = make_scorer(fbeta_score, beta=2)\n",
    "mean_accuracy_infoFilter=[]\n",
    "mean_f2_infoFilter=[]\n",
    "mean_precision_infoFilter=[]\n",
    "mean_recall_infoFilter=[]\n",
    "accuracy_std_infoFilter=[]\n",
    "p_percents_infoFilter=[]\n",
    "equal_opp_infoFilter=[]"
   ]
  },
  {
   "cell_type": "code",
   "execution_count": 621,
   "id": "22b4f802",
   "metadata": {},
   "outputs": [],
   "source": [
    "# classifiers\n",
    "classifiers=['Logistic Regression', 'Demographic Parity Cov_Threshold=1', 'Demographic Parity Cov_Threshold=0.0000069', 'Equal Opportunity']\n",
    "models=[LogisticRegression(max_iter=5000), DemographicParityClassifier(sensitive_cols=\"gender\", covariance_threshold=1), DemographicParityClassifier(sensitive_cols=\"gender\", covariance_threshold=0.0000069), EqualOpportunityClassifier(sensitive_cols=\"gender\", covariance_threshold=0.0000069, positive_target=True,)]\n"
   ]
  },
  {
   "cell_type": "code",
   "execution_count": null,
   "id": "6e0ce15f",
   "metadata": {},
   "outputs": [],
   "source": []
  },
  {
   "cell_type": "code",
   "execution_count": 622,
   "id": "9b51e93d",
   "metadata": {},
   "outputs": [],
   "source": [
    "for model in models:\n",
    "    # accuracy\n",
    "    cv_accuracy = cross_val_score(model,x,y,scoring = \"accuracy\", cv = cv, n_jobs=-1)\n",
    "    # f2beta\n",
    "    cv_f2 = cross_val_score(model, x, y, scoring=f2, cv=cv, n_jobs=-1)\n",
    "    # precision\n",
    "    cv_precision = cross_val_score(model, x, y, scoring='precision', cv=cv, n_jobs=-1)\n",
    "    # recall\n",
    "    cv_recall = cross_val_score(model, x, y, scoring='recall', cv=cv, n_jobs=-1)\n",
    "    #p% \n",
    "    model.fit(xtrain, ytrain)\n",
    "    p_percent = p_percent_score(sensitive_column=\"gender\")(model, xtrain, ytrain)\n",
    "    equal_opp_score = equal_opportunity_score(sensitive_column=\"gender\")(model, xtrain, ytrain)\n",
    "\n",
    "\n",
    "    mean_accuracy.append(mean(cv_accuracy))\n",
    "    accuracy_std.append(cv_accuracy.std())\n",
    "    mean_f2.append(mean(cv_f2))\n",
    "    mean_precision.append(mean(cv_precision))\n",
    "    mean_recall.append(mean(cv_recall))\n",
    "    p_percents.append(p_percent)\n",
    "    equal_opp.append(equal_opp_score)"
   ]
  },
  {
   "cell_type": "code",
   "execution_count": 623,
   "id": "b7174791",
   "metadata": {},
   "outputs": [],
   "source": [
    "models_dataframe=pd.DataFrame({'Mean Accuracy':mean_accuracy, 'Accuracy Std':accuracy_std, 'Mean f2beta': mean_f2, 'Mean precision':mean_precision, 'Mean recall':mean_recall, 'P%':p_percents, 'Equal Opp Score':equal_opp},index=classifiers)"
   ]
  },
  {
   "cell_type": "code",
   "execution_count": 624,
   "id": "fc3bddc7",
   "metadata": {},
   "outputs": [],
   "source": [
    "# classifiers for information filter and fairness through unawareness evaluation \n",
    "classifiers_=['Logistic Regression']\n",
    "models_ = models=[LogisticRegression(max_iter=5000)]"
   ]
  },
  {
   "cell_type": "code",
   "execution_count": 625,
   "id": "597807a5",
   "metadata": {},
   "outputs": [],
   "source": [
    "for model in models_:\n",
    "    # accuracy\n",
    "    cv_accuracy = cross_val_score(model,x_infoFilter,y,scoring = \"accuracy\", cv = cv, n_jobs=-1)\n",
    "    # f2beta\n",
    "    cv_f2 = cross_val_score(model, x_infoFilter, y, scoring=f2, cv=cv, n_jobs=-1)\n",
    "    # precision\n",
    "    cv_precision = cross_val_score(model, x_infoFilter, y, scoring='precision', cv=cv, n_jobs=-1)\n",
    "    # recall\n",
    "    cv_recall = cross_val_score(model, x_infoFilter, y, scoring='recall', cv=cv, n_jobs=-1)\n",
    "\n",
    "\n",
    "    mean_accuracy_infoFilter.append(mean(cv_accuracy))\n",
    "    accuracy_std_infoFilter.append(cv_accuracy.std())\n",
    "    mean_f2_infoFilter.append(mean(cv_f2))\n",
    "    mean_precision_infoFilter.append(mean(cv_precision))\n",
    "    mean_recall_infoFilter.append(mean(cv_recall))"
   ]
  },
  {
   "cell_type": "code",
   "execution_count": 626,
   "id": "e52f7c8a",
   "metadata": {},
   "outputs": [],
   "source": [
    "models_dataframe_infoFilter=pd.DataFrame({'Information filter Mean Accuracy':mean_accuracy_infoFilter, 'Information filter Accuracy Std':accuracy_std_infoFilter, 'Information filter Mean f2beta': mean_f2_infoFilter, 'Information filter Mean precision':mean_precision_infoFilter, 'Information filter Mean recall':mean_recall_infoFilter},index=classifiers_)"
   ]
  },
  {
   "cell_type": "code",
   "execution_count": 627,
   "id": "d21a88db",
   "metadata": {},
   "outputs": [],
   "source": [
    "# baseline comparision (fairness through unawareness)\n",
    "\n",
    "for model in models_:\n",
    "    # accuracy\n",
    "    cv_accuracy_unaware = cross_val_score(model,x_unaware,y_unaware,scoring = \"accuracy\", cv = cv, n_jobs=-1)\n",
    "    # f2beta\n",
    "    cv_f2_unaware = cross_val_score(model, x_unaware, y_unaware, scoring=f2, cv=cv, n_jobs=-1)\n",
    "    # precision\n",
    "    cv_precision_unaware = cross_val_score(model, x_unaware, y_unaware, scoring='precision', cv=cv, n_jobs=-1)\n",
    "    # recall\n",
    "    cv_recall_unaware = cross_val_score(model, x_unaware, y_unaware, scoring='recall', cv=cv, n_jobs=-1)\n",
    "    \n",
    "    \n",
    "    mean_accuracy_unaware.append(mean(cv_accuracy_unaware))\n",
    "    accuracy_std_unaware.append(cv_accuracy_unaware.std())\n",
    "    mean_f2_unaware.append(mean(cv_f2_unaware))\n",
    "    mean_precision_unaware.append(mean(cv_precision_unaware))\n",
    "    mean_recall_unaware.append(mean(cv_recall_unaware))"
   ]
  },
  {
   "cell_type": "code",
   "execution_count": 628,
   "id": "0e0c2089",
   "metadata": {},
   "outputs": [],
   "source": [
    "models_dataframe_unaware=pd.DataFrame({'Baseline Mean Accuracy':mean_accuracy_unaware, 'Baseline Accuracy Std':accuracy_std_unaware, 'Baseline Mean f2beta': mean_f2_unaware, 'Baseline Mean Precision':mean_precision_unaware, 'Baseline Mean recall':mean_recall_unaware},index=classifiers_)"
   ]
  },
  {
   "cell_type": "markdown",
   "id": "9e2d0bb2",
   "metadata": {},
   "source": [
    "## Results"
   ]
  },
  {
   "cell_type": "code",
   "execution_count": 629,
   "id": "4a2d2544",
   "metadata": {},
   "outputs": [
    {
     "data": {
      "text/html": [
       "<div>\n",
       "<style scoped>\n",
       "    .dataframe tbody tr th:only-of-type {\n",
       "        vertical-align: middle;\n",
       "    }\n",
       "\n",
       "    .dataframe tbody tr th {\n",
       "        vertical-align: top;\n",
       "    }\n",
       "\n",
       "    .dataframe thead th {\n",
       "        text-align: right;\n",
       "    }\n",
       "</style>\n",
       "<table border=\"1\" class=\"dataframe\">\n",
       "  <thead>\n",
       "    <tr style=\"text-align: right;\">\n",
       "      <th></th>\n",
       "      <th>Mean Accuracy</th>\n",
       "      <th>Accuracy Std</th>\n",
       "      <th>Mean f2beta</th>\n",
       "      <th>Mean precision</th>\n",
       "      <th>Mean recall</th>\n",
       "      <th>P%</th>\n",
       "      <th>Equal Opp Score</th>\n",
       "    </tr>\n",
       "  </thead>\n",
       "  <tbody>\n",
       "    <tr>\n",
       "      <th>Logistic Regression</th>\n",
       "      <td>0.761000</td>\n",
       "      <td>0.031660</td>\n",
       "      <td>0.861042</td>\n",
       "      <td>0.800754</td>\n",
       "      <td>0.878095</td>\n",
       "      <td>0.889475</td>\n",
       "      <td>0.928817</td>\n",
       "    </tr>\n",
       "    <tr>\n",
       "      <th>Demographic Parity Cov_Threshold=1</th>\n",
       "      <td>0.760667</td>\n",
       "      <td>0.033460</td>\n",
       "      <td>0.860040</td>\n",
       "      <td>0.801215</td>\n",
       "      <td>0.876667</td>\n",
       "      <td>0.881497</td>\n",
       "      <td>0.931334</td>\n",
       "    </tr>\n",
       "    <tr>\n",
       "      <th>Demographic Parity Cov_Threshold=0.0000069</th>\n",
       "      <td>0.756000</td>\n",
       "      <td>0.031581</td>\n",
       "      <td>0.856983</td>\n",
       "      <td>0.797557</td>\n",
       "      <td>0.873810</td>\n",
       "      <td>0.984322</td>\n",
       "      <td>0.952970</td>\n",
       "    </tr>\n",
       "    <tr>\n",
       "      <th>Equal Opportunity</th>\n",
       "      <td>0.752667</td>\n",
       "      <td>0.033559</td>\n",
       "      <td>0.852824</td>\n",
       "      <td>0.796853</td>\n",
       "      <td>0.868571</td>\n",
       "      <td>0.991190</td>\n",
       "      <td>0.958265</td>\n",
       "    </tr>\n",
       "  </tbody>\n",
       "</table>\n",
       "</div>"
      ],
      "text/plain": [
       "                                            Mean Accuracy  Accuracy Std  \\\n",
       "Logistic Regression                              0.761000      0.031660   \n",
       "Demographic Parity Cov_Threshold=1               0.760667      0.033460   \n",
       "Demographic Parity Cov_Threshold=0.0000069       0.756000      0.031581   \n",
       "Equal Opportunity                                0.752667      0.033559   \n",
       "\n",
       "                                            Mean f2beta  Mean precision  \\\n",
       "Logistic Regression                            0.861042        0.800754   \n",
       "Demographic Parity Cov_Threshold=1             0.860040        0.801215   \n",
       "Demographic Parity Cov_Threshold=0.0000069     0.856983        0.797557   \n",
       "Equal Opportunity                              0.852824        0.796853   \n",
       "\n",
       "                                            Mean recall        P%  \\\n",
       "Logistic Regression                            0.878095  0.889475   \n",
       "Demographic Parity Cov_Threshold=1             0.876667  0.881497   \n",
       "Demographic Parity Cov_Threshold=0.0000069     0.873810  0.984322   \n",
       "Equal Opportunity                              0.868571  0.991190   \n",
       "\n",
       "                                            Equal Opp Score  \n",
       "Logistic Regression                                0.928817  \n",
       "Demographic Parity Cov_Threshold=1                 0.931334  \n",
       "Demographic Parity Cov_Threshold=0.0000069         0.952970  \n",
       "Equal Opportunity                                  0.958265  "
      ]
     },
     "execution_count": 629,
     "metadata": {},
     "output_type": "execute_result"
    }
   ],
   "source": [
    "# results for models training using original dataset (gender column included)\n",
    "models_dataframe"
   ]
  },
  {
   "cell_type": "code",
   "execution_count": 630,
   "id": "655e45c1",
   "metadata": {},
   "outputs": [
    {
     "data": {
      "text/html": [
       "<div>\n",
       "<style scoped>\n",
       "    .dataframe tbody tr th:only-of-type {\n",
       "        vertical-align: middle;\n",
       "    }\n",
       "\n",
       "    .dataframe tbody tr th {\n",
       "        vertical-align: top;\n",
       "    }\n",
       "\n",
       "    .dataframe thead th {\n",
       "        text-align: right;\n",
       "    }\n",
       "</style>\n",
       "<table border=\"1\" class=\"dataframe\">\n",
       "  <thead>\n",
       "    <tr style=\"text-align: right;\">\n",
       "      <th></th>\n",
       "      <th>Information filter Mean Accuracy</th>\n",
       "      <th>Information filter Accuracy Std</th>\n",
       "      <th>Information filter Mean f2beta</th>\n",
       "      <th>Information filter Mean precision</th>\n",
       "      <th>Information filter Mean recall</th>\n",
       "    </tr>\n",
       "  </thead>\n",
       "  <tbody>\n",
       "    <tr>\n",
       "      <th>Logistic Regression</th>\n",
       "      <td>0.760667</td>\n",
       "      <td>0.030977</td>\n",
       "      <td>0.860956</td>\n",
       "      <td>0.80043</td>\n",
       "      <td>0.878095</td>\n",
       "    </tr>\n",
       "  </tbody>\n",
       "</table>\n",
       "</div>"
      ],
      "text/plain": [
       "                     Information filter Mean Accuracy  \\\n",
       "Logistic Regression                          0.760667   \n",
       "\n",
       "                     Information filter Accuracy Std  \\\n",
       "Logistic Regression                         0.030977   \n",
       "\n",
       "                     Information filter Mean f2beta  \\\n",
       "Logistic Regression                        0.860956   \n",
       "\n",
       "                     Information filter Mean precision  \\\n",
       "Logistic Regression                            0.80043   \n",
       "\n",
       "                     Information filter Mean recall  \n",
       "Logistic Regression                        0.878095  "
      ]
     },
     "execution_count": 630,
     "metadata": {},
     "output_type": "execute_result"
    }
   ],
   "source": [
    "# results for model trained using information filter on gender\n",
    "# TODO: figure out how to calculate p % score when training log reg with information filter on gender\n",
    "models_dataframe_infoFilter"
   ]
  },
  {
   "cell_type": "code",
   "execution_count": 631,
   "id": "1cdeec39",
   "metadata": {},
   "outputs": [
    {
     "data": {
      "text/html": [
       "<div>\n",
       "<style scoped>\n",
       "    .dataframe tbody tr th:only-of-type {\n",
       "        vertical-align: middle;\n",
       "    }\n",
       "\n",
       "    .dataframe tbody tr th {\n",
       "        vertical-align: top;\n",
       "    }\n",
       "\n",
       "    .dataframe thead th {\n",
       "        text-align: right;\n",
       "    }\n",
       "</style>\n",
       "<table border=\"1\" class=\"dataframe\">\n",
       "  <thead>\n",
       "    <tr style=\"text-align: right;\">\n",
       "      <th></th>\n",
       "      <th>Baseline Mean Accuracy</th>\n",
       "      <th>Baseline Accuracy Std</th>\n",
       "      <th>Baseline Mean f2beta</th>\n",
       "      <th>Baseline Mean Precision</th>\n",
       "      <th>Baseline Mean recall</th>\n",
       "    </tr>\n",
       "  </thead>\n",
       "  <tbody>\n",
       "    <tr>\n",
       "      <th>Logistic Regression</th>\n",
       "      <td>0.76</td>\n",
       "      <td>0.032558</td>\n",
       "      <td>0.860187</td>\n",
       "      <td>0.800209</td>\n",
       "      <td>0.877143</td>\n",
       "    </tr>\n",
       "  </tbody>\n",
       "</table>\n",
       "</div>"
      ],
      "text/plain": [
       "                     Baseline Mean Accuracy  Baseline Accuracy Std  \\\n",
       "Logistic Regression                    0.76               0.032558   \n",
       "\n",
       "                     Baseline Mean f2beta  Baseline Mean Precision  \\\n",
       "Logistic Regression              0.860187                 0.800209   \n",
       "\n",
       "                     Baseline Mean recall  \n",
       "Logistic Regression              0.877143  "
      ]
     },
     "execution_count": 631,
     "metadata": {},
     "output_type": "execute_result"
    }
   ],
   "source": [
    "# results for model trained without gender column (fairness through unawareness), intended as a baseline comparison\n",
    "# TODO: figure out how to calculate p % score when training log reg without gender column\n",
    "models_dataframe_unaware"
   ]
  },
  {
   "cell_type": "markdown",
   "id": "fbe70e66",
   "metadata": {},
   "source": [
    "## Exploration of covariance threshold: Demographic Parity Classifier "
   ]
  },
  {
   "cell_type": "code",
   "execution_count": 632,
   "id": "a25f6d79",
   "metadata": {},
   "outputs": [],
   "source": [
    "grid_dpc = GridSearchCV(estimator=dpc_clf, param_grid={\"estimator__covariance_threshold\":np.linspace(0, 1.00, 20)}, cv=5, return_train_score=True, refit=\"p_percent_score\", scoring={\"p_percent_score\":p_percent_score('gender'), \"accuracy_score\":make_scorer(accuracy_score)})"
   ]
  },
  {
   "cell_type": "code",
   "execution_count": 633,
   "id": "c7633ce6",
   "metadata": {},
   "outputs": [
    {
     "data": {
      "text/plain": [
       "GridSearchCV(cv=5,\n",
       "             estimator=OneVsRestClassifier(estimator=_DemographicParityClassifier(covariance_threshold=1,\n",
       "                                                                                  sensitive_cols='gender'),\n",
       "                                           n_jobs=1),\n",
       "             param_grid={'estimator__covariance_threshold': array([0.        , 0.05263158, 0.10526316, 0.15789474, 0.21052632,\n",
       "       0.26315789, 0.31578947, 0.36842105, 0.42105263, 0.47368421,\n",
       "       0.52631579, 0.57894737, 0.63157895, 0.68421053, 0.73684211,\n",
       "       0.78947368, 0.84210526, 0.89473684, 0.94736842, 1.        ])},\n",
       "             refit='p_percent_score', return_train_score=True,\n",
       "             scoring={'accuracy_score': make_scorer(accuracy_score),\n",
       "                      'p_percent_score': <function p_percent_score.<locals>.impl at 0x7fe77893a940>})"
      ]
     },
     "execution_count": 633,
     "metadata": {},
     "output_type": "execute_result"
    }
   ],
   "source": [
    "grid_dpc.fit(x,y)"
   ]
  },
  {
   "cell_type": "code",
   "execution_count": 634,
   "id": "93e482c2",
   "metadata": {},
   "outputs": [],
   "source": [
    "results_dpc = (pd.DataFrame(grid_dpc.cv_results_).set_index(\"param_estimator__covariance_threshold\"))"
   ]
  },
  {
   "cell_type": "code",
   "execution_count": 635,
   "id": "8fb36c2f",
   "metadata": {},
   "outputs": [
    {
     "data": {
      "image/png": "[encoded data removed]",
      "text/plain": [
       "<Figure size 864x216 with 2 Axes>"
      ]
     },
     "metadata": {
      "needs_background": "light"
     },
     "output_type": "display_data"
    }
   ],
   "source": [
    "plt.figure(figsize=(12,3))\n",
    "plt.subplot(121)\n",
    "plt.plot(np.array(results_dpc.index), results_dpc['mean_test_p_percent_score'], label='demographic parity clf')\n",
    "plt.xlabel(\"covariance threshold\")\n",
    "plt.ylabel('p% score')\n",
    "plt.legend()\n",
    "plt.title(\"demographic parity p%\")\n",
    "plt.subplot(122)\n",
    "plt.plot(np.array(results_dpc.index), results_dpc['mean_test_accuracy_score'], label='demographic parity clf')\n",
    "plt.xlabel(\"covariance threshold\")\n",
    "plt.ylabel('accuracy score')\n",
    "plt.legend()\n",
    "plt.title(\"demographic parity accuracy\");\n"
   ]
  },
  {
   "cell_type": "code",
   "execution_count": 504,
   "id": "b071de8f",
   "metadata": {},
   "outputs": [],
   "source": [
    "# NOTE: it's clear that p% is influenced by covariance threshold for dpc model. \n",
    "# Thus, it would be interesting to explore how feature coefficients change as covariance threshold changes"
   ]
  },
  {
   "cell_type": "markdown",
   "id": "169777fc",
   "metadata": {},
   "source": [
    "## Exploration of how feature coefficients change as a function of covariance threshold"
   ]
  },
  {
   "cell_type": "code",
   "execution_count": 505,
   "id": "9976cd52",
   "metadata": {},
   "outputs": [],
   "source": [
    "#cov_threshold = np.linspace(0,1,10)\n",
    "#accuracy_ = []\n",
    "#p_percent_ = []\n",
    "#coefficients_ = \n",
    "#cv_ = RepeatedStratifiedKFold(n_splits=10, n_repeats=3, random_state=1)"
   ]
  },
  {
   "cell_type": "code",
   "execution_count": 565,
   "id": "ac598714",
   "metadata": {},
   "outputs": [],
   "source": [
    "#for cov in cov_threshold:\n",
    "    #model = DemographicParityClassifier(sensitive_cols=\"gender\", covariance_threshold=cov)\n",
    "    #model.fit(xtrain, ytrain)\n",
    "    # calculate accuracy\n",
    "    #accuracy_.append(model.score(xtest,ytest))\n",
    "    # calculate p percent score\n",
    "    #p_percent = p_percent_score(sensitive_column=\"gender\")(model, xtrain, ytrain)\n",
    "    #p_percent_.append(p_percent)\n",
    "    # store coefficients\n",
    "    #coefficients_.append(model.coef_)"
   ]
  },
  {
   "cell_type": "code",
   "execution_count": null,
   "id": "d69fd584",
   "metadata": {},
   "outputs": [],
   "source": [
    "#cov_threshold_df = pd.DataFrame()"
   ]
  },
  {
   "cell_type": "markdown",
   "id": "a41188b3",
   "metadata": {},
   "source": [
    "## Exploration of regularization (elasticnet mixing parameter): Logisitic Regression"
   ]
  },
  {
   "cell_type": "code",
   "execution_count": null,
   "id": "4de1430c",
   "metadata": {},
   "outputs": [],
   "source": [
    "# NOTE: I would like to explore how p% changes with different lambda values \n",
    "# (lambda value is represented as 'C' parameter in scikit learn's logistic regression model) when using L1 regularization\n",
    "# vs using L2 regularization vs using elasticnet with different mixing parameters"
   ]
  },
  {
   "cell_type": "code",
   "execution_count": 576,
   "id": "7172cbb3",
   "metadata": {},
   "outputs": [],
   "source": [
    "log_clf = LogisticRegression(penalty='elasticnet', solver='saga', max_iter=2000, random_state=0)"
   ]
  },
  {
   "cell_type": "code",
   "execution_count": 577,
   "id": "a1844955",
   "metadata": {},
   "outputs": [],
   "source": [
    "grid_values = {'l1_ratio':np.linspace(0,1,30), 'random_state':[0]}"
   ]
  },
  {
   "cell_type": "code",
   "execution_count": 578,
   "id": "0ab3574d",
   "metadata": {},
   "outputs": [],
   "source": [
    "grid_log = GridSearchCV(estimator=log_clf, param_grid=grid_values, cv=5, return_train_score=True, refit=\"accuracy_score\", scoring={\"p_percent_score\":p_percent_score('gender'), \"accuracy_score\":make_scorer(accuracy_score)})"
   ]
  },
  {
   "cell_type": "code",
   "execution_count": 579,
   "id": "2de24748",
   "metadata": {},
   "outputs": [
    {
     "data": {
      "text/plain": [
       "GridSearchCV(cv=5,\n",
       "             estimator=LogisticRegression(max_iter=2000, penalty='elasticnet',\n",
       "                                          random_state=0, solver='saga'),\n",
       "             param_grid={'l1_ratio': array([0.        , 0.03448276, 0.06896552, 0.10344828, 0.13793103,\n",
       "       0.17241379, 0.20689655, 0.24137931, 0.27586207, 0.31034483,\n",
       "       0.34482759, 0.37931034, 0.4137931 , 0.44827586, 0.48275862,\n",
       "       0.51724138, 0.55172414, 0.5862069 , 0.62068966, 0.65517241,\n",
       "       0.68965517, 0.72413793, 0.75862069, 0.79310345, 0.82758621,\n",
       "       0.86206897, 0.89655172, 0.93103448, 0.96551724, 1.        ]),\n",
       "                         'random_state': [0]},\n",
       "             refit='accuracy_score', return_train_score=True,\n",
       "             scoring={'accuracy_score': make_scorer(accuracy_score),\n",
       "                      'p_percent_score': <function p_percent_score.<locals>.impl at 0x7fe7b05ed430>})"
      ]
     },
     "execution_count": 579,
     "metadata": {},
     "output_type": "execute_result"
    }
   ],
   "source": [
    "grid_log.fit(x,y)"
   ]
  },
  {
   "cell_type": "code",
   "execution_count": 580,
   "id": "4a96356b",
   "metadata": {},
   "outputs": [],
   "source": [
    "results_log = (pd.DataFrame(grid_log.cv_results_).set_index(\"param_l1_ratio\"))"
   ]
  },
  {
   "cell_type": "code",
   "execution_count": 581,
   "id": "3d95564f",
   "metadata": {},
   "outputs": [
    {
     "data": {
      "image/png": "[encoded data removed]",
      "text/plain": [
       "<Figure size 864x216 with 2 Axes>"
      ]
     },
     "metadata": {
      "needs_background": "light"
     },
     "output_type": "display_data"
    }
   ],
   "source": [
    "plt.figure(figsize=(12,3))\n",
    "plt.subplot(121)\n",
    "plt.plot(np.array(results_log.index), results_log['mean_test_p_percent_score'], label='log reg clf')\n",
    "plt.xlabel(\"Elasticnet mixing parameter\")\n",
    "plt.ylabel('p% score')\n",
    "plt.legend()\n",
    "plt.title(\"log reg p%\")\n",
    "plt.subplot(122)\n",
    "plt.plot(np.array(results_log.index), results_log['mean_test_accuracy_score'], label='log reg clf')\n",
    "plt.xlabel(\"Elasticnet mixing parameter\")\n",
    "plt.ylabel('accuracy score')\n",
    "plt.legend()\n",
    "plt.title(\"log reg accuracy\");"
   ]
  },
  {
   "cell_type": "markdown",
   "id": "ae66d895",
   "metadata": {},
   "source": [
    "## Hyperparameter exploration: Equal Opportunity Classifier "
   ]
  },
  {
   "cell_type": "code",
   "execution_count": 57,
   "id": "5cd8b354",
   "metadata": {},
   "outputs": [],
   "source": [
    "equal_opp_clf = EqualOpportunityClassifier(sensitive_cols=\"gender\", covariance_threshold=0.5, positive_target=True,)"
   ]
  },
  {
   "cell_type": "code",
   "execution_count": 58,
   "id": "b7ed2bbc",
   "metadata": {},
   "outputs": [],
   "source": [
    "grid_eq = GridSearchCV(estimator=equal_opp_clf, param_grid={\"estimator__covariance_threshold\":np.linspace(0, 1.00, 20)}, cv=5, refit=\"equal_opportunity_score\", return_train_score=True, scoring={\"equal_opportunity_score\":equal_opportunity_score('gender'), \"accuracy_score\":make_scorer(accuracy_score)})"
   ]
  },
  {
   "cell_type": "code",
   "execution_count": 59,
   "id": "78faee05",
   "metadata": {},
   "outputs": [
    {
     "data": {
      "text/plain": [
       "GridSearchCV(cv=5,\n",
       "             estimator=OneVsRestClassifier(estimator=_EqualOpportunityClassifier(covariance_threshold=0.5,\n",
       "                                                                                 positive_target=True,\n",
       "                                                                                 sensitive_cols='gender'),\n",
       "                                           n_jobs=1),\n",
       "             param_grid={'estimator__covariance_threshold': array([1.00000000e-04, 5.27263158e-02, 1.05352632e-01, 1.57978947e-01,\n",
       "       2.10605263e-01, 2.63231579e-01, 3.15857895e-01, 3.68484211e-01,\n",
       "       4.21110526...363158e-01, 5.78989474e-01,\n",
       "       6.31615789e-01, 6.84242105e-01, 7.36868421e-01, 7.89494737e-01,\n",
       "       8.42121053e-01, 8.94747368e-01, 9.47373684e-01, 1.00000000e+00])},\n",
       "             refit='equal_opportunity_score', return_train_score=True,\n",
       "             scoring={'accuracy_score': make_scorer(accuracy_score),\n",
       "                      'equal_opportunity_score': <function equal_opportunity_score.<locals>.impl at 0x7fafd0297e50>})"
      ]
     },
     "execution_count": 59,
     "metadata": {},
     "output_type": "execute_result"
    }
   ],
   "source": [
    "grid_eq.fit(x,y)"
   ]
  },
  {
   "cell_type": "code",
   "execution_count": 60,
   "id": "27541e9f",
   "metadata": {},
   "outputs": [],
   "source": [
    "results_eq = (pd.DataFrame(grid_eq.cv_results_).set_index(\"param_estimator__covariance_threshold\"))"
   ]
  },
  {
   "cell_type": "code",
   "execution_count": 61,
   "id": "741e61fa",
   "metadata": {},
   "outputs": [
    {
     "data": {
      "image/png": "[encoded data removed]",
      "text/plain": [
       "<Figure size 864x216 with 2 Axes>"
      ]
     },
     "metadata": {
      "needs_background": "light"
     },
     "output_type": "display_data"
    }
   ],
   "source": [
    "plt.figure(figsize=(12,3))\n",
    "plt.subplot(121)\n",
    "plt.plot(np.array(results_eq.index), results_eq['mean_test_equal_opportunity_score'], label='equal opp clf')\n",
    "plt.xlabel(\"covariance threshold\")\n",
    "plt.ylabel(\"equal opportunity score\")\n",
    "plt.legend()\n",
    "plt.title(\"equal opportunity classifier\")\n",
    "plt.subplot(122)\n",
    "plt.plot(np.array(results_eq.index), results_eq['mean_test_accuracy_score'], label='equal opp clf')\n",
    "plt.xlabel(\"covariance threshold\")\n",
    "plt.ylabel('accuracy score')\n",
    "plt.legend()\n",
    "plt.title(\"equal opportunity classifier\");"
   ]
  },
  {
   "cell_type": "code",
   "execution_count": null,
   "id": "3280f8d8",
   "metadata": {},
   "outputs": [],
   "source": []
  }
 ],
 "metadata": {
  "kernelspec": {
   "display_name": "Python 3 (ipykernel)",
   "language": "python",
   "name": "python3"
  },
  "language_info": {
   "codemirror_mode": {
    "name": "ipython",
    "version": 3
   },
   "file_extension": ".py",
   "mimetype": "text/x-python",
   "name": "python",
   "nbconvert_exporter": "python",
   "pygments_lexer": "ipython3",
   "version": "3.8.5"
  }
 },
 "nbformat": 4,
 "nbformat_minor": 5
}
