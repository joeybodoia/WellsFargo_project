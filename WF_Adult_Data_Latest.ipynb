{
 "cells": [
  {
   "cell_type": "code",
   "execution_count": 370,
   "id": "cb5db2bf",
   "metadata": {},
   "outputs": [],
   "source": [
    "import pandas as pd\n",
    "import numpy as np\n",
    "import matplotlib.pyplot as plt "
   ]
  },
  {
   "cell_type": "code",
   "execution_count": 371,
   "id": "7b063bc8",
   "metadata": {},
   "outputs": [],
   "source": [
    "from sklearn.preprocessing import StandardScaler, LabelEncoder\n",
    "from sklearn.model_selection import train_test_split, cross_val_predict, GridSearchCV, cross_val_score, RepeatedStratifiedKFold, cross_validate\n",
    "from sklearn.metrics import accuracy_score, precision_score, recall_score, f1_score, confusion_matrix, classification_report\n",
    "from sklearn.metrics import make_scorer\n",
    "from sklearn.metrics import fbeta_score\n",
    "from sklego.metrics import p_percent_score\n",
    "from statistics import mean\n",
    "from sklego.metrics import equal_opportunity_score"
   ]
  },
  {
   "cell_type": "code",
   "execution_count": 372,
   "id": "52b633f8",
   "metadata": {},
   "outputs": [],
   "source": [
    "from sklego.preprocessing import InformationFilter\n",
    "from sklearn.model_selection import RandomizedSearchCV"
   ]
  },
  {
   "cell_type": "code",
   "execution_count": 373,
   "id": "848aefcd",
   "metadata": {},
   "outputs": [],
   "source": [
    "from sklearn.linear_model import LogisticRegression, LinearRegression\n",
    "from sklearn.feature_selection import RFE\n",
    "from sklego.linear_model import DemographicParityClassifier\n",
    "from sklego.linear_model import EqualOpportunityClassifier"
   ]
  },
  {
   "cell_type": "code",
   "execution_count": 374,
   "id": "1f4781d6",
   "metadata": {},
   "outputs": [],
   "source": [
    "import os\n",
    "import seaborn as sns\n",
    "import warnings\n",
    "warnings.filterwarnings('ignore')"
   ]
  },
  {
   "cell_type": "code",
   "execution_count": 375,
   "id": "a0807cb7",
   "metadata": {},
   "outputs": [],
   "source": [
    "from shap import LinearExplainer, summary_plot"
   ]
  },
  {
   "cell_type": "code",
   "execution_count": 376,
   "id": "c87e08c6",
   "metadata": {},
   "outputs": [],
   "source": [
    "import ipywidgets"
   ]
  },
  {
   "cell_type": "code",
   "execution_count": 377,
   "id": "bc88c90f",
   "metadata": {},
   "outputs": [],
   "source": [
    "# protected attributes: race and sex\n",
    "cols = [\"age\", \"workclass\", \"fnlwgt\", \"education\", \"educational-num\", \"marital-status\", \"occupation\", \"relationship\", \"race\", \"gender\", \"capital-gain\", \"capital-loss\", \"hours-per-week\", \"native-country\", \"income\"]"
   ]
  },
  {
   "cell_type": "code",
   "execution_count": 378,
   "id": "e8e1c021",
   "metadata": {},
   "outputs": [],
   "source": [
    "# load data\n",
    "df = pd.read_csv(\"/Users/jobo/Desktop/WellsFargo/adult.csv.zip\", header=0, delimiter=',')"
   ]
  },
  {
   "cell_type": "code",
   "execution_count": 379,
   "id": "599c69c6",
   "metadata": {},
   "outputs": [
    {
     "data": {
      "text/html": [
       "<div>\n",
       "<style scoped>\n",
       "    .dataframe tbody tr th:only-of-type {\n",
       "        vertical-align: middle;\n",
       "    }\n",
       "\n",
       "    .dataframe tbody tr th {\n",
       "        vertical-align: top;\n",
       "    }\n",
       "\n",
       "    .dataframe thead th {\n",
       "        text-align: right;\n",
       "    }\n",
       "</style>\n",
       "<table border=\"1\" class=\"dataframe\">\n",
       "  <thead>\n",
       "    <tr style=\"text-align: right;\">\n",
       "      <th></th>\n",
       "      <th>age</th>\n",
       "      <th>workclass</th>\n",
       "      <th>fnlwgt</th>\n",
       "      <th>education</th>\n",
       "      <th>educational-num</th>\n",
       "      <th>marital-status</th>\n",
       "      <th>occupation</th>\n",
       "      <th>relationship</th>\n",
       "      <th>race</th>\n",
       "      <th>gender</th>\n",
       "      <th>capital-gain</th>\n",
       "      <th>capital-loss</th>\n",
       "      <th>hours-per-week</th>\n",
       "      <th>native-country</th>\n",
       "      <th>income</th>\n",
       "    </tr>\n",
       "  </thead>\n",
       "  <tbody>\n",
       "    <tr>\n",
       "      <th>0</th>\n",
       "      <td>25</td>\n",
       "      <td>Private</td>\n",
       "      <td>226802</td>\n",
       "      <td>11th</td>\n",
       "      <td>7</td>\n",
       "      <td>Never-married</td>\n",
       "      <td>Machine-op-inspct</td>\n",
       "      <td>Own-child</td>\n",
       "      <td>Black</td>\n",
       "      <td>Male</td>\n",
       "      <td>0</td>\n",
       "      <td>0</td>\n",
       "      <td>40</td>\n",
       "      <td>United-States</td>\n",
       "      <td>&lt;=50K</td>\n",
       "    </tr>\n",
       "    <tr>\n",
       "      <th>1</th>\n",
       "      <td>38</td>\n",
       "      <td>Private</td>\n",
       "      <td>89814</td>\n",
       "      <td>HS-grad</td>\n",
       "      <td>9</td>\n",
       "      <td>Married-civ-spouse</td>\n",
       "      <td>Farming-fishing</td>\n",
       "      <td>Husband</td>\n",
       "      <td>White</td>\n",
       "      <td>Male</td>\n",
       "      <td>0</td>\n",
       "      <td>0</td>\n",
       "      <td>50</td>\n",
       "      <td>United-States</td>\n",
       "      <td>&lt;=50K</td>\n",
       "    </tr>\n",
       "    <tr>\n",
       "      <th>2</th>\n",
       "      <td>28</td>\n",
       "      <td>Local-gov</td>\n",
       "      <td>336951</td>\n",
       "      <td>Assoc-acdm</td>\n",
       "      <td>12</td>\n",
       "      <td>Married-civ-spouse</td>\n",
       "      <td>Protective-serv</td>\n",
       "      <td>Husband</td>\n",
       "      <td>White</td>\n",
       "      <td>Male</td>\n",
       "      <td>0</td>\n",
       "      <td>0</td>\n",
       "      <td>40</td>\n",
       "      <td>United-States</td>\n",
       "      <td>&gt;50K</td>\n",
       "    </tr>\n",
       "    <tr>\n",
       "      <th>3</th>\n",
       "      <td>44</td>\n",
       "      <td>Private</td>\n",
       "      <td>160323</td>\n",
       "      <td>Some-college</td>\n",
       "      <td>10</td>\n",
       "      <td>Married-civ-spouse</td>\n",
       "      <td>Machine-op-inspct</td>\n",
       "      <td>Husband</td>\n",
       "      <td>Black</td>\n",
       "      <td>Male</td>\n",
       "      <td>7688</td>\n",
       "      <td>0</td>\n",
       "      <td>40</td>\n",
       "      <td>United-States</td>\n",
       "      <td>&gt;50K</td>\n",
       "    </tr>\n",
       "    <tr>\n",
       "      <th>4</th>\n",
       "      <td>18</td>\n",
       "      <td>?</td>\n",
       "      <td>103497</td>\n",
       "      <td>Some-college</td>\n",
       "      <td>10</td>\n",
       "      <td>Never-married</td>\n",
       "      <td>?</td>\n",
       "      <td>Own-child</td>\n",
       "      <td>White</td>\n",
       "      <td>Female</td>\n",
       "      <td>0</td>\n",
       "      <td>0</td>\n",
       "      <td>30</td>\n",
       "      <td>United-States</td>\n",
       "      <td>&lt;=50K</td>\n",
       "    </tr>\n",
       "    <tr>\n",
       "      <th>5</th>\n",
       "      <td>34</td>\n",
       "      <td>Private</td>\n",
       "      <td>198693</td>\n",
       "      <td>10th</td>\n",
       "      <td>6</td>\n",
       "      <td>Never-married</td>\n",
       "      <td>Other-service</td>\n",
       "      <td>Not-in-family</td>\n",
       "      <td>White</td>\n",
       "      <td>Male</td>\n",
       "      <td>0</td>\n",
       "      <td>0</td>\n",
       "      <td>30</td>\n",
       "      <td>United-States</td>\n",
       "      <td>&lt;=50K</td>\n",
       "    </tr>\n",
       "    <tr>\n",
       "      <th>6</th>\n",
       "      <td>29</td>\n",
       "      <td>?</td>\n",
       "      <td>227026</td>\n",
       "      <td>HS-grad</td>\n",
       "      <td>9</td>\n",
       "      <td>Never-married</td>\n",
       "      <td>?</td>\n",
       "      <td>Unmarried</td>\n",
       "      <td>Black</td>\n",
       "      <td>Male</td>\n",
       "      <td>0</td>\n",
       "      <td>0</td>\n",
       "      <td>40</td>\n",
       "      <td>United-States</td>\n",
       "      <td>&lt;=50K</td>\n",
       "    </tr>\n",
       "    <tr>\n",
       "      <th>7</th>\n",
       "      <td>63</td>\n",
       "      <td>Self-emp-not-inc</td>\n",
       "      <td>104626</td>\n",
       "      <td>Prof-school</td>\n",
       "      <td>15</td>\n",
       "      <td>Married-civ-spouse</td>\n",
       "      <td>Prof-specialty</td>\n",
       "      <td>Husband</td>\n",
       "      <td>White</td>\n",
       "      <td>Male</td>\n",
       "      <td>3103</td>\n",
       "      <td>0</td>\n",
       "      <td>32</td>\n",
       "      <td>United-States</td>\n",
       "      <td>&gt;50K</td>\n",
       "    </tr>\n",
       "    <tr>\n",
       "      <th>8</th>\n",
       "      <td>24</td>\n",
       "      <td>Private</td>\n",
       "      <td>369667</td>\n",
       "      <td>Some-college</td>\n",
       "      <td>10</td>\n",
       "      <td>Never-married</td>\n",
       "      <td>Other-service</td>\n",
       "      <td>Unmarried</td>\n",
       "      <td>White</td>\n",
       "      <td>Female</td>\n",
       "      <td>0</td>\n",
       "      <td>0</td>\n",
       "      <td>40</td>\n",
       "      <td>United-States</td>\n",
       "      <td>&lt;=50K</td>\n",
       "    </tr>\n",
       "    <tr>\n",
       "      <th>9</th>\n",
       "      <td>55</td>\n",
       "      <td>Private</td>\n",
       "      <td>104996</td>\n",
       "      <td>7th-8th</td>\n",
       "      <td>4</td>\n",
       "      <td>Married-civ-spouse</td>\n",
       "      <td>Craft-repair</td>\n",
       "      <td>Husband</td>\n",
       "      <td>White</td>\n",
       "      <td>Male</td>\n",
       "      <td>0</td>\n",
       "      <td>0</td>\n",
       "      <td>10</td>\n",
       "      <td>United-States</td>\n",
       "      <td>&lt;=50K</td>\n",
       "    </tr>\n",
       "  </tbody>\n",
       "</table>\n",
       "</div>"
      ],
      "text/plain": [
       "   age         workclass  fnlwgt     education  educational-num  \\\n",
       "0   25           Private  226802          11th                7   \n",
       "1   38           Private   89814       HS-grad                9   \n",
       "2   28         Local-gov  336951    Assoc-acdm               12   \n",
       "3   44           Private  160323  Some-college               10   \n",
       "4   18                 ?  103497  Some-college               10   \n",
       "5   34           Private  198693          10th                6   \n",
       "6   29                 ?  227026       HS-grad                9   \n",
       "7   63  Self-emp-not-inc  104626   Prof-school               15   \n",
       "8   24           Private  369667  Some-college               10   \n",
       "9   55           Private  104996       7th-8th                4   \n",
       "\n",
       "       marital-status         occupation   relationship   race  gender  \\\n",
       "0       Never-married  Machine-op-inspct      Own-child  Black    Male   \n",
       "1  Married-civ-spouse    Farming-fishing        Husband  White    Male   \n",
       "2  Married-civ-spouse    Protective-serv        Husband  White    Male   \n",
       "3  Married-civ-spouse  Machine-op-inspct        Husband  Black    Male   \n",
       "4       Never-married                  ?      Own-child  White  Female   \n",
       "5       Never-married      Other-service  Not-in-family  White    Male   \n",
       "6       Never-married                  ?      Unmarried  Black    Male   \n",
       "7  Married-civ-spouse     Prof-specialty        Husband  White    Male   \n",
       "8       Never-married      Other-service      Unmarried  White  Female   \n",
       "9  Married-civ-spouse       Craft-repair        Husband  White    Male   \n",
       "\n",
       "   capital-gain  capital-loss  hours-per-week native-country income  \n",
       "0             0             0              40  United-States  <=50K  \n",
       "1             0             0              50  United-States  <=50K  \n",
       "2             0             0              40  United-States   >50K  \n",
       "3          7688             0              40  United-States   >50K  \n",
       "4             0             0              30  United-States  <=50K  \n",
       "5             0             0              30  United-States  <=50K  \n",
       "6             0             0              40  United-States  <=50K  \n",
       "7          3103             0              32  United-States   >50K  \n",
       "8             0             0              40  United-States  <=50K  \n",
       "9             0             0              10  United-States  <=50K  "
      ]
     },
     "execution_count": 379,
     "metadata": {},
     "output_type": "execute_result"
    }
   ],
   "source": [
    "df.head(10)"
   ]
  },
  {
   "cell_type": "code",
   "execution_count": 380,
   "id": "9001f2f3",
   "metadata": {},
   "outputs": [
    {
     "data": {
      "text/plain": [
       "(48842, 15)"
      ]
     },
     "execution_count": 380,
     "metadata": {},
     "output_type": "execute_result"
    }
   ],
   "source": [
    "df.shape"
   ]
  },
  {
   "cell_type": "code",
   "execution_count": 381,
   "id": "bfe916d4",
   "metadata": {},
   "outputs": [],
   "source": [
    "num_features = ['age', 'fnlwgt', 'educational-num', 'capital-gain', 'capital-loss', 'hours-per-week']"
   ]
  },
  {
   "cell_type": "code",
   "execution_count": 382,
   "id": "1778ae25",
   "metadata": {},
   "outputs": [],
   "source": [
    "cat_features = ['workclass', 'marital-status', 'occupation', 'relationship', 'native-country']"
   ]
  },
  {
   "cell_type": "markdown",
   "id": "1879dc54",
   "metadata": {},
   "source": [
    "## Data Cleaning"
   ]
  },
  {
   "cell_type": "markdown",
   "id": "04239140",
   "metadata": {},
   "source": [
    "### Handling Missing Data"
   ]
  },
  {
   "cell_type": "code",
   "execution_count": 383,
   "id": "d231ca34",
   "metadata": {},
   "outputs": [],
   "source": [
    "# format of missing data:\n",
    "question_mark = df.loc[4, 'workclass']"
   ]
  },
  {
   "cell_type": "code",
   "execution_count": 384,
   "id": "2d1876db",
   "metadata": {},
   "outputs": [],
   "source": [
    "# find features that have missing data\n",
    "features_missing_data = {}\n",
    "indices_missing_data = []\n",
    "for index, row in df.iterrows():\n",
    "    for col in cols:\n",
    "        if row[col] == question_mark:\n",
    "            indices_missing_data.append(index)\n",
    "            if col in features_missing_data:\n",
    "                features_missing_data[col] += 1\n",
    "            else:\n",
    "                features_missing_data[col] = 1"
   ]
  },
  {
   "cell_type": "code",
   "execution_count": 385,
   "id": "869f6835",
   "metadata": {},
   "outputs": [
    {
     "data": {
      "text/plain": [
       "{'workclass': 2799, 'occupation': 2809, 'native-country': 857}"
      ]
     },
     "execution_count": 385,
     "metadata": {},
     "output_type": "execute_result"
    }
   ],
   "source": [
    "# nativecountry, workclass, and occupation are the 3 features that contain missing data\n",
    "features_missing_data"
   ]
  },
  {
   "cell_type": "code",
   "execution_count": 386,
   "id": "932c00d6",
   "metadata": {},
   "outputs": [
    {
     "data": {
      "text/plain": [
       "0.07411653904426518"
      ]
     },
     "execution_count": 386,
     "metadata": {},
     "output_type": "execute_result"
    }
   ],
   "source": [
    "# check what percentage of rows have missing data\n",
    "percent_rows_missing_data = len(set(indices_missing_data))/df.shape[0]\n",
    "percent_rows_missing_data"
   ]
  },
  {
   "cell_type": "markdown",
   "id": "e9572b01",
   "metadata": {},
   "source": [
    "Note: ~7% of the rows having missing data. Three main options come to mind for how to handle this missing data:\n",
    "1. Remove missing data \n",
    "2. Replace missing data with most frequent values from that column (given that all three features with missing data are categorical)\n",
    "3. Replace missing data such that the distribution of the missing dataset closely resembles the distribution of the non-missing dataset"
   ]
  },
  {
   "cell_type": "markdown",
   "id": "2bea7e65",
   "metadata": {},
   "source": [
    "Lets check how the distributions of gender, income, and race in the missing data compare to that of the original data"
   ]
  },
  {
   "cell_type": "code",
   "execution_count": 387,
   "id": "62a5798f",
   "metadata": {},
   "outputs": [],
   "source": [
    "indices_missing_unique = list(set(indices_missing_data))"
   ]
  },
  {
   "cell_type": "code",
   "execution_count": 388,
   "id": "2e685c0f",
   "metadata": {},
   "outputs": [],
   "source": [
    "df_missing_data = df.iloc[indices_missing_unique]"
   ]
  },
  {
   "cell_type": "markdown",
   "id": "8dba9c53",
   "metadata": {},
   "source": [
    "### Distribution of gender in missing dataset"
   ]
  },
  {
   "cell_type": "code",
   "execution_count": 389,
   "id": "4b0ddd44",
   "metadata": {},
   "outputs": [
    {
     "data": {
      "image/png": "[encoded data removed]",
      "text/plain": [
       "<Figure size 432x288 with 1 Axes>"
      ]
     },
     "metadata": {
      "needs_background": "light"
     },
     "output_type": "display_data"
    }
   ],
   "source": [
    "sns.countplot(x=\"gender\", data= df_missing_data)\n",
    "plt.show()"
   ]
  },
  {
   "cell_type": "markdown",
   "id": "3d844039",
   "metadata": {},
   "source": [
    "### Distribution of gender in original dataset"
   ]
  },
  {
   "cell_type": "code",
   "execution_count": 390,
   "id": "eae6bae7",
   "metadata": {},
   "outputs": [
    {
     "data": {
      "image/png": "[encoded data removed]",
      "text/plain": [
       "<Figure size 432x288 with 1 Axes>"
      ]
     },
     "metadata": {
      "needs_background": "light"
     },
     "output_type": "display_data"
    }
   ],
   "source": [
    "sns.countplot(x=\"gender\", data= df)\n",
    "plt.show()"
   ]
  },
  {
   "cell_type": "markdown",
   "id": "8238ae89",
   "metadata": {},
   "source": [
    "### Distribution of income in missing dataset"
   ]
  },
  {
   "cell_type": "code",
   "execution_count": 391,
   "id": "e3071d02",
   "metadata": {},
   "outputs": [
    {
     "data": {
      "image/png": "[encoded data removed]",
      "text/plain": [
       "<Figure size 432x288 with 1 Axes>"
      ]
     },
     "metadata": {
      "needs_background": "light"
     },
     "output_type": "display_data"
    }
   ],
   "source": [
    "sns.countplot(x=\"income\", data= df_missing_data)\n",
    "plt.show()"
   ]
  },
  {
   "cell_type": "markdown",
   "id": "fcb553bf",
   "metadata": {},
   "source": [
    "### Distribution of income in original dataset"
   ]
  },
  {
   "cell_type": "code",
   "execution_count": 392,
   "id": "07b9887f",
   "metadata": {},
   "outputs": [
    {
     "data": {
      "image/png": "[encoded data removed]",
      "text/plain": [
       "<Figure size 432x288 with 1 Axes>"
      ]
     },
     "metadata": {
      "needs_background": "light"
     },
     "output_type": "display_data"
    }
   ],
   "source": [
    "sns.countplot(x=\"income\", data= df)\n",
    "plt.show()"
   ]
  },
  {
   "cell_type": "markdown",
   "id": "ce5063a4",
   "metadata": {},
   "source": [
    "### Distribution of race in missing dataset"
   ]
  },
  {
   "cell_type": "code",
   "execution_count": 393,
   "id": "3d3e6889",
   "metadata": {},
   "outputs": [
    {
     "data": {
      "image/png": "[encoded data removed]",
      "text/plain": [
       "<Figure size 432x288 with 1 Axes>"
      ]
     },
     "metadata": {
      "needs_background": "light"
     },
     "output_type": "display_data"
    }
   ],
   "source": [
    "sns.countplot(x=\"race\", data= df_missing_data)\n",
    "plt.show()"
   ]
  },
  {
   "cell_type": "markdown",
   "id": "ab46ed52",
   "metadata": {},
   "source": [
    "### Distribution of race in original dataset"
   ]
  },
  {
   "cell_type": "code",
   "execution_count": 394,
   "id": "6d97245d",
   "metadata": {},
   "outputs": [
    {
     "data": {
      "image/png": "[encoded data removed]",
      "text/plain": [
       "<Figure size 432x288 with 1 Axes>"
      ]
     },
     "metadata": {
      "needs_background": "light"
     },
     "output_type": "display_data"
    }
   ],
   "source": [
    "sns.countplot(x=\"race\", data= df)\n",
    "plt.show()"
   ]
  },
  {
   "cell_type": "markdown",
   "id": "aa408ea7",
   "metadata": {},
   "source": [
    "The distribution of the gender, income, and race in the missing datasets are similar enough to the respective distributions of the original dataset. For this reason, as well as the fact that a relatively small portion of the rows have missing values (~7%), I will remove the rows with missing data."
   ]
  },
  {
   "cell_type": "code",
   "execution_count": 395,
   "id": "0d7a629d",
   "metadata": {},
   "outputs": [],
   "source": [
    "# remove rows which contain missing data\n",
    "df = df.drop(df[df.workclass == question_mark].index)\n",
    "df = df.drop(df[df.occupation == question_mark].index)\n",
    "df = df.drop(df[df[\"native-country\"] == question_mark].index)"
   ]
  },
  {
   "cell_type": "code",
   "execution_count": 396,
   "id": "f77a5c9c",
   "metadata": {},
   "outputs": [
    {
     "data": {
      "text/plain": [
       "(45222, 15)"
      ]
     },
     "execution_count": 396,
     "metadata": {},
     "output_type": "execute_result"
    }
   ],
   "source": [
    "df.shape"
   ]
  },
  {
   "cell_type": "markdown",
   "id": "18f74a2e",
   "metadata": {},
   "source": [
    "## Feature Engineering"
   ]
  },
  {
   "cell_type": "code",
   "execution_count": 397,
   "id": "83e7a3d4",
   "metadata": {},
   "outputs": [
    {
     "data": {
      "text/plain": [
       "HS-grad         14783\n",
       "Some-college     9899\n",
       "Bachelors        7570\n",
       "Masters          2514\n",
       "Assoc-voc        1959\n",
       "11th             1619\n",
       "Assoc-acdm       1507\n",
       "10th             1223\n",
       "7th-8th           823\n",
       "Prof-school       785\n",
       "9th               676\n",
       "12th              577\n",
       "Doctorate         544\n",
       "5th-6th           449\n",
       "1st-4th           222\n",
       "Preschool          72\n",
       "Name: education, dtype: int64"
      ]
     },
     "execution_count": 397,
     "metadata": {},
     "output_type": "execute_result"
    }
   ],
   "source": [
    "df['education'].value_counts()"
   ]
  },
  {
   "cell_type": "code",
   "execution_count": 398,
   "id": "74629556",
   "metadata": {},
   "outputs": [
    {
     "data": {
      "text/plain": [
       "9     14783\n",
       "10     9899\n",
       "13     7570\n",
       "14     2514\n",
       "11     1959\n",
       "7      1619\n",
       "12     1507\n",
       "6      1223\n",
       "4       823\n",
       "15      785\n",
       "5       676\n",
       "8       577\n",
       "16      544\n",
       "3       449\n",
       "2       222\n",
       "1        72\n",
       "Name: educational-num, dtype: int64"
      ]
     },
     "execution_count": 398,
     "metadata": {},
     "output_type": "execute_result"
    }
   ],
   "source": [
    "df['educational-num'].value_counts()"
   ]
  },
  {
   "cell_type": "markdown",
   "id": "d3a690e9",
   "metadata": {},
   "source": [
    "Educational number and education are essentially providing the same information. For this reason, and remove education. I choose to remove education because I would rather have a continuous variable than a categorical variable that I would need to one-hot encode."
   ]
  },
  {
   "cell_type": "code",
   "execution_count": 399,
   "id": "1a4ce48c",
   "metadata": {},
   "outputs": [],
   "source": [
    "# remove education feature\n",
    "df = df.drop('education', 1)"
   ]
  },
  {
   "cell_type": "markdown",
   "id": "e5807f66",
   "metadata": {},
   "source": [
    "### Marital-Status"
   ]
  },
  {
   "cell_type": "code",
   "execution_count": 400,
   "id": "a6bf7dd3",
   "metadata": {},
   "outputs": [
    {
     "data": {
      "text/plain": [
       "Married-civ-spouse       21055\n",
       "Never-married            14598\n",
       "Divorced                  6297\n",
       "Separated                 1411\n",
       "Widowed                   1277\n",
       "Married-spouse-absent      552\n",
       "Married-AF-spouse           32\n",
       "Name: marital-status, dtype: int64"
      ]
     },
     "execution_count": 400,
     "metadata": {},
     "output_type": "execute_result"
    }
   ],
   "source": [
    "df['marital-status'].value_counts()"
   ]
  },
  {
   "cell_type": "markdown",
   "id": "5cfabe2d",
   "metadata": {},
   "source": [
    "In order to make one-hot encoding simpler, I will condense marital-status into the following four categories:\n",
    "1. married ( Married-civ-spouse, Married-spouse-absent, Married-AF-spouse)\n",
    "2. separated (Divorced, Separated)\n",
    "3. never-married\n",
    "4. widowed"
   ]
  },
  {
   "cell_type": "code",
   "execution_count": 401,
   "id": "426e1668",
   "metadata": {},
   "outputs": [],
   "source": [
    "married= ['Married-civ-spouse','Married-spouse-absent','Married-AF-spouse']\n",
    "separated  = ['Divorced', 'Separated']\n",
    "\n",
    "df['marital-status'].replace(to_replace = married ,value = 'Married',inplace = True)\n",
    "df['marital-status'].replace(to_replace = separated,value = 'Separated',inplace = True)"
   ]
  },
  {
   "cell_type": "code",
   "execution_count": 402,
   "id": "67e0c60c",
   "metadata": {},
   "outputs": [
    {
     "data": {
      "text/plain": [
       "Married          21639\n",
       "Never-married    14598\n",
       "Separated         7708\n",
       "Widowed           1277\n",
       "Name: marital-status, dtype: int64"
      ]
     },
     "execution_count": 402,
     "metadata": {},
     "output_type": "execute_result"
    }
   ],
   "source": [
    "df['marital-status'].value_counts()"
   ]
  },
  {
   "cell_type": "markdown",
   "id": "eff42cd3",
   "metadata": {},
   "source": [
    "### Workclass"
   ]
  },
  {
   "cell_type": "code",
   "execution_count": 403,
   "id": "63f9bd9d",
   "metadata": {},
   "outputs": [
    {
     "data": {
      "text/plain": [
       "Private             33307\n",
       "Self-emp-not-inc     3796\n",
       "Local-gov            3100\n",
       "State-gov            1946\n",
       "Self-emp-inc         1646\n",
       "Federal-gov          1406\n",
       "Without-pay            21\n",
       "Name: workclass, dtype: int64"
      ]
     },
     "execution_count": 403,
     "metadata": {},
     "output_type": "execute_result"
    }
   ],
   "source": [
    "df['workclass'].value_counts()"
   ]
  },
  {
   "cell_type": "markdown",
   "id": "a8a845b6",
   "metadata": {},
   "source": [
    "I will condense workclass into the following 3 categories:\n",
    "1. Self-employed (Self-emp-not-inc, Self-emp-inc)\n",
    "2. Government (Local-gov, State-gov, Federal-gov)\n",
    "3. Private\n",
    "4. Without-pay"
   ]
  },
  {
   "cell_type": "code",
   "execution_count": 404,
   "id": "45585b08",
   "metadata": {},
   "outputs": [],
   "source": [
    "self_employed = ['Self-emp-not-inc','Self-emp-inc']\n",
    "government_employees = ['Local-gov','State-gov','Federal-gov']\n",
    "\n",
    "df['workclass'].replace(to_replace = self_employed ,value = 'Self_employed',inplace = True)\n",
    "df['workclass'].replace(to_replace = government_employees,value = 'Govt_employees',inplace = True)"
   ]
  },
  {
   "cell_type": "code",
   "execution_count": 405,
   "id": "b4b572fa",
   "metadata": {},
   "outputs": [
    {
     "data": {
      "text/plain": [
       "Private           33307\n",
       "Govt_employees     6452\n",
       "Self_employed      5442\n",
       "Without-pay          21\n",
       "Name: workclass, dtype: int64"
      ]
     },
     "execution_count": 405,
     "metadata": {},
     "output_type": "execute_result"
    }
   ],
   "source": [
    "df['workclass'].value_counts()"
   ]
  },
  {
   "cell_type": "markdown",
   "id": "0c86dc63",
   "metadata": {},
   "source": [
    "### Native country"
   ]
  },
  {
   "cell_type": "code",
   "execution_count": 406,
   "id": "2636a5de",
   "metadata": {},
   "outputs": [
    {
     "data": {
      "text/plain": [
       "United-States                 41292\n",
       "Mexico                          903\n",
       "Philippines                     283\n",
       "Germany                         193\n",
       "Puerto-Rico                     175\n",
       "Canada                          163\n",
       "El-Salvador                     147\n",
       "India                           147\n",
       "Cuba                            133\n",
       "England                         119\n",
       "China                           113\n",
       "Jamaica                         103\n",
       "South                           101\n",
       "Italy                           100\n",
       "Dominican-Republic               97\n",
       "Japan                            89\n",
       "Guatemala                        86\n",
       "Vietnam                          83\n",
       "Columbia                         82\n",
       "Poland                           81\n",
       "Haiti                            69\n",
       "Portugal                         62\n",
       "Iran                             56\n",
       "Taiwan                           55\n",
       "Greece                           49\n",
       "Nicaragua                        48\n",
       "Peru                             45\n",
       "Ecuador                          43\n",
       "France                           36\n",
       "Ireland                          36\n",
       "Thailand                         29\n",
       "Hong                             28\n",
       "Cambodia                         26\n",
       "Trinadad&Tobago                  26\n",
       "Yugoslavia                       23\n",
       "Outlying-US(Guam-USVI-etc)       22\n",
       "Laos                             21\n",
       "Scotland                         20\n",
       "Honduras                         19\n",
       "Hungary                          18\n",
       "Holand-Netherlands                1\n",
       "Name: native-country, dtype: int64"
      ]
     },
     "execution_count": 406,
     "metadata": {},
     "output_type": "execute_result"
    }
   ],
   "source": [
    "df['native-country'].value_counts()"
   ]
  },
  {
   "cell_type": "markdown",
   "id": "4693d2c1",
   "metadata": {},
   "source": [
    "Given that each country outside of US accounts for less than 2% of the dataset, I will condense these category into the following 2 categories:\n",
    "1. US\n",
    "2. Not US"
   ]
  },
  {
   "cell_type": "code",
   "execution_count": 407,
   "id": "f107b6ff",
   "metadata": {},
   "outputs": [],
   "source": [
    "not_us = []\n",
    "for country in df['native-country'].unique():\n",
    "    if country != 'United-States':\n",
    "        not_us.append(country)\n",
    "df['native-country'].replace(to_replace = not_us ,value = 'Not United-States',inplace = True)"
   ]
  },
  {
   "cell_type": "code",
   "execution_count": 408,
   "id": "0546542b",
   "metadata": {},
   "outputs": [
    {
     "data": {
      "text/plain": [
       "United-States        41292\n",
       "Not United-States     3930\n",
       "Name: native-country, dtype: int64"
      ]
     },
     "execution_count": 408,
     "metadata": {},
     "output_type": "execute_result"
    }
   ],
   "source": [
    "df['native-country'].value_counts()"
   ]
  },
  {
   "cell_type": "markdown",
   "id": "c48d56b5",
   "metadata": {},
   "source": [
    "### Race"
   ]
  },
  {
   "cell_type": "markdown",
   "id": "cba4469b",
   "metadata": {},
   "source": [
    "For the purposes of this exploration, we will only be considering the following races: \n",
    "1. White\n",
    "2. Black"
   ]
  },
  {
   "cell_type": "code",
   "execution_count": 409,
   "id": "e14b8eb2",
   "metadata": {},
   "outputs": [
    {
     "data": {
      "text/plain": [
       "White                 38903\n",
       "Black                  4228\n",
       "Asian-Pac-Islander     1303\n",
       "Amer-Indian-Eskimo      435\n",
       "Other                   353\n",
       "Name: race, dtype: int64"
      ]
     },
     "execution_count": 409,
     "metadata": {},
     "output_type": "execute_result"
    }
   ],
   "source": [
    "df['race'].value_counts()"
   ]
  },
  {
   "cell_type": "code",
   "execution_count": 410,
   "id": "42994a7f",
   "metadata": {},
   "outputs": [],
   "source": [
    "df.drop(df.loc[df['race'] == 'Asian-Pac-Islander'].index, inplace=True)\n",
    "df.drop(df.loc[df['race'] == 'Amer-Indian-Eskimo'].index, inplace=True)\n",
    "df.drop(df.loc[df['race'] == 'Other'].index, inplace=True)"
   ]
  },
  {
   "cell_type": "code",
   "execution_count": 411,
   "id": "b258754a",
   "metadata": {},
   "outputs": [
    {
     "data": {
      "text/plain": [
       "White    38903\n",
       "Black     4228\n",
       "Name: race, dtype: int64"
      ]
     },
     "execution_count": 411,
     "metadata": {},
     "output_type": "execute_result"
    }
   ],
   "source": [
    "df['race'].value_counts()"
   ]
  },
  {
   "cell_type": "code",
   "execution_count": 412,
   "id": "38d5b63e",
   "metadata": {},
   "outputs": [],
   "source": [
    "# convert race into a binary column\n",
    "df['race'] = LabelEncoder().fit_transform(df['race'])"
   ]
  },
  {
   "cell_type": "code",
   "execution_count": 413,
   "id": "5584b7a5",
   "metadata": {},
   "outputs": [
    {
     "data": {
      "text/plain": [
       "1    38903\n",
       "0     4228\n",
       "Name: race, dtype: int64"
      ]
     },
     "execution_count": 413,
     "metadata": {},
     "output_type": "execute_result"
    }
   ],
   "source": [
    "df['race'].value_counts()"
   ]
  },
  {
   "cell_type": "code",
   "execution_count": 414,
   "id": "39fd7afc",
   "metadata": {},
   "outputs": [],
   "source": [
    "# convert categorical variables into numerical variables through one-hot encoding\n",
    "df = pd.get_dummies(df, columns = cat_features)"
   ]
  },
  {
   "cell_type": "code",
   "execution_count": 415,
   "id": "c93d107f",
   "metadata": {},
   "outputs": [],
   "source": [
    "# convert gender into a binary column\n",
    "df['gender'] = LabelEncoder().fit_transform(df['gender'])\n",
    "# convert income label into a binary column\n",
    "df['income'] = LabelEncoder().fit_transform(df['income'])"
   ]
  },
  {
   "cell_type": "code",
   "execution_count": 416,
   "id": "ebbaa5f5",
   "metadata": {},
   "outputs": [],
   "source": [
    "# scale numerical data\n",
    "df_copy = df.copy()\n",
    "df[num_features] = StandardScaler().fit_transform(df[num_features])"
   ]
  },
  {
   "cell_type": "code",
   "execution_count": 420,
   "id": "c9e62b83",
   "metadata": {},
   "outputs": [],
   "source": [
    "x = df.drop('income', axis = 1)"
   ]
  },
  {
   "cell_type": "code",
   "execution_count": 421,
   "id": "404a7e56",
   "metadata": {},
   "outputs": [],
   "source": [
    "y = df.income"
   ]
  },
  {
   "cell_type": "code",
   "execution_count": 422,
   "id": "50936a08",
   "metadata": {},
   "outputs": [],
   "source": [
    "# used to compute p_percent_score\n",
    "xtrain, xtest, ytrain, ytest = train_test_split(x, y, test_size = 0.2, random_state = 0)"
   ]
  },
  {
   "cell_type": "markdown",
   "id": "8255b03c",
   "metadata": {},
   "source": [
    "# Modeling"
   ]
  },
  {
   "cell_type": "code",
   "execution_count": 423,
   "id": "e7719dc0",
   "metadata": {},
   "outputs": [],
   "source": [
    "# classifiers\n",
    "classifiers=['Logistic Regression', 'Demographic Parity']"
   ]
  },
  {
   "cell_type": "code",
   "execution_count": 424,
   "id": "76d510d4",
   "metadata": {},
   "outputs": [],
   "source": [
    "models=[LogisticRegression(max_iter=5000),DemographicParityClassifier(sensitive_cols=['gender'], covariance_threshold=0.0000069)]"
   ]
  },
  {
   "cell_type": "code",
   "execution_count": 425,
   "id": "ed8c669d",
   "metadata": {},
   "outputs": [],
   "source": [
    "# define cross-validation procedure\n",
    "cv = RepeatedStratifiedKFold(n_splits=5, n_repeats=3, random_state=1)"
   ]
  },
  {
   "cell_type": "code",
   "execution_count": 426,
   "id": "ef39d96d",
   "metadata": {},
   "outputs": [],
   "source": [
    "# model evaluation metrics \n",
    "mean_accuracy=[]\n",
    "mean_precision=[]\n",
    "mean_recall=[]\n",
    "accuracy_std=[]\n",
    "p_percents_sex=[]"
   ]
  },
  {
   "cell_type": "code",
   "execution_count": 427,
   "id": "b34e6873",
   "metadata": {},
   "outputs": [],
   "source": [
    "for model in models:\n",
    "    # accuracy\n",
    "    cv_accuracy = cross_val_score(model,x,y,scoring = \"accuracy\", cv = cv, n_jobs=-1)\n",
    "    # precision\n",
    "    cv_precision = cross_val_score(model, x, y, scoring='precision', cv=cv, n_jobs=-1)\n",
    "    # recall\n",
    "    cv_recall = cross_val_score(model, x, y, scoring='recall', cv=cv, n_jobs=-1)\n",
    "    #p% \n",
    "    model.fit(xtrain, ytrain)\n",
    "    p_percent_sex = p_percent_score(sensitive_column=\"gender\")(model, xtest, ytest)\n",
    "    \n",
    "    mean_accuracy.append(mean(cv_accuracy))\n",
    "    accuracy_std.append(cv_accuracy.std())\n",
    "    mean_precision.append(mean(cv_precision))\n",
    "    mean_recall.append(mean(cv_recall))\n",
    "    p_percents_sex.append(p_percent_sex)"
   ]
  },
  {
   "cell_type": "code",
   "execution_count": 428,
   "id": "70b8c976",
   "metadata": {},
   "outputs": [],
   "source": [
    "models_dataframe=pd.DataFrame({'Mean Accuracy':mean_accuracy, 'Accuracy Std':accuracy_std, 'Mean Precision':mean_precision, 'Mean Recall':mean_recall,  'P% sex':p_percents_sex},index=classifiers)"
   ]
  },
  {
   "cell_type": "markdown",
   "id": "57cd3758",
   "metadata": {},
   "source": [
    "## Benchmark results"
   ]
  },
  {
   "cell_type": "code",
   "execution_count": 429,
   "id": "6b453725",
   "metadata": {},
   "outputs": [
    {
     "data": {
      "text/plain": [
       "1    29164\n",
       "0    13967\n",
       "Name: gender, dtype: int64"
      ]
     },
     "execution_count": 429,
     "metadata": {},
     "output_type": "execute_result"
    }
   ],
   "source": [
    "df['gender'].value_counts()"
   ]
  },
  {
   "cell_type": "code",
   "execution_count": 430,
   "id": "dee554c0",
   "metadata": {},
   "outputs": [
    {
     "data": {
      "text/plain": [
       "gender  income\n",
       "0       0         12386\n",
       "        1          1581\n",
       "1       0         20004\n",
       "        1          9160\n",
       "dtype: int64"
      ]
     },
     "execution_count": 430,
     "metadata": {},
     "output_type": "execute_result"
    }
   ],
   "source": [
    "df.groupby(['gender','income']).size()"
   ]
  },
  {
   "cell_type": "markdown",
   "id": "103eab05",
   "metadata": {},
   "source": [
    "Baseline comparison for p percentage relative to gender: if our model was 100% accurate, the following would be our p percent score for gender:"
   ]
  },
  {
   "cell_type": "code",
   "execution_count": 431,
   "id": "6d48d974",
   "metadata": {},
   "outputs": [
    {
     "data": {
      "text/plain": [
       "0.36039632408643835"
      ]
     },
     "execution_count": 431,
     "metadata": {},
     "output_type": "execute_result"
    }
   ],
   "source": [
    "# positive outcome female / total female\n",
    "p_y1_z0 = 1581/13967\n",
    "# positive outcome male / total male \n",
    "p_y1_z1 = 9160/29164\n",
    "dataset_p_percent = np.minimum(p_y1_z1 / p_y1_z0, p_y1_z0 / p_y1_z1)\n",
    "dataset_p_percent"
   ]
  },
  {
   "cell_type": "code",
   "execution_count": 432,
   "id": "b7f2920c",
   "metadata": {},
   "outputs": [
    {
     "data": {
      "text/html": [
       "<div>\n",
       "<style scoped>\n",
       "    .dataframe tbody tr th:only-of-type {\n",
       "        vertical-align: middle;\n",
       "    }\n",
       "\n",
       "    .dataframe tbody tr th {\n",
       "        vertical-align: top;\n",
       "    }\n",
       "\n",
       "    .dataframe thead th {\n",
       "        text-align: right;\n",
       "    }\n",
       "</style>\n",
       "<table border=\"1\" class=\"dataframe\">\n",
       "  <thead>\n",
       "    <tr style=\"text-align: right;\">\n",
       "      <th></th>\n",
       "      <th>Mean Accuracy</th>\n",
       "      <th>Accuracy Std</th>\n",
       "      <th>Mean Precision</th>\n",
       "      <th>Mean Recall</th>\n",
       "      <th>P% sex</th>\n",
       "    </tr>\n",
       "  </thead>\n",
       "  <tbody>\n",
       "    <tr>\n",
       "      <th>Logistic Regression</th>\n",
       "      <td>0.847001</td>\n",
       "      <td>0.003757</td>\n",
       "      <td>0.734250</td>\n",
       "      <td>0.604507</td>\n",
       "      <td>0.287016</td>\n",
       "    </tr>\n",
       "    <tr>\n",
       "      <th>Demographic Parity</th>\n",
       "      <td>0.831567</td>\n",
       "      <td>0.003065</td>\n",
       "      <td>0.728192</td>\n",
       "      <td>0.516464</td>\n",
       "      <td>0.797039</td>\n",
       "    </tr>\n",
       "  </tbody>\n",
       "</table>\n",
       "</div>"
      ],
      "text/plain": [
       "                     Mean Accuracy  Accuracy Std  Mean Precision  Mean Recall  \\\n",
       "Logistic Regression       0.847001      0.003757        0.734250     0.604507   \n",
       "Demographic Parity        0.831567      0.003065        0.728192     0.516464   \n",
       "\n",
       "                       P% sex  \n",
       "Logistic Regression  0.287016  \n",
       "Demographic Parity   0.797039  "
      ]
     },
     "execution_count": 432,
     "metadata": {},
     "output_type": "execute_result"
    }
   ],
   "source": [
    "models_dataframe"
   ]
  },
  {
   "cell_type": "markdown",
   "id": "dc03ed63",
   "metadata": {},
   "source": [
    "## Exploration of Covariance Threshold Hyperparameter for Demographic Parity Classifier"
   ]
  },
  {
   "cell_type": "code",
   "execution_count": 433,
   "id": "f2371f32",
   "metadata": {},
   "outputs": [],
   "source": [
    "dpc_clf = DemographicParityClassifier(sensitive_cols=\"gender\", covariance_threshold=0.5)"
   ]
  },
  {
   "cell_type": "code",
   "execution_count": 434,
   "id": "50f80f1a",
   "metadata": {},
   "outputs": [],
   "source": [
    "grid_dpc = GridSearchCV(estimator=dpc_clf, param_grid={\"estimator__covariance_threshold\":np.linspace(0, 1.00, 40)}, cv=5, return_train_score=True, refit=\"p_percent_score\", scoring={\"p_percent_score\":p_percent_score('gender'), \"accuracy_score\":make_scorer(accuracy_score)})"
   ]
  },
  {
   "cell_type": "code",
   "execution_count": 435,
   "id": "9c73f065",
   "metadata": {},
   "outputs": [
    {
     "data": {
      "text/plain": [
       "GridSearchCV(cv=5,\n",
       "             estimator=OneVsRestClassifier(estimator=_DemographicParityClassifier(covariance_threshold=0.5,\n",
       "                                                                                  sensitive_cols='gender'),\n",
       "                                           n_jobs=1),\n",
       "             param_grid={'estimator__covariance_threshold': array([0.        , 0.02564103, 0.05128205, 0.07692308, 0.1025641 ,\n",
       "       0.12820513, 0.15384615, 0.17948718, 0.20512821, 0.23076923,\n",
       "       0.25641026, 0.28205128, 0.30769231, 0.33333333, 0.358...\n",
       "       0.51282051, 0.53846154, 0.56410256, 0.58974359, 0.61538462,\n",
       "       0.64102564, 0.66666667, 0.69230769, 0.71794872, 0.74358974,\n",
       "       0.76923077, 0.79487179, 0.82051282, 0.84615385, 0.87179487,\n",
       "       0.8974359 , 0.92307692, 0.94871795, 0.97435897, 1.        ])},\n",
       "             refit='p_percent_score', return_train_score=True,\n",
       "             scoring={'accuracy_score': make_scorer(accuracy_score),\n",
       "                      'p_percent_score': <function p_percent_score.<locals>.impl at 0x7f905b01d550>})"
      ]
     },
     "execution_count": 435,
     "metadata": {},
     "output_type": "execute_result"
    }
   ],
   "source": [
    "grid_dpc.fit(x,y)"
   ]
  },
  {
   "cell_type": "code",
   "execution_count": 436,
   "id": "51fe26a3",
   "metadata": {},
   "outputs": [],
   "source": [
    "results_dpc = (pd.DataFrame(grid_dpc.cv_results_).set_index(\"param_estimator__covariance_threshold\"))"
   ]
  },
  {
   "cell_type": "code",
   "execution_count": 437,
   "id": "b051ebd4",
   "metadata": {},
   "outputs": [
    {
     "data": {
      "image/png": "[encoded data removed]",
      "text/plain": [
       "<Figure size 1152x432 with 2 Axes>"
      ]
     },
     "metadata": {
      "needs_background": "light"
     },
     "output_type": "display_data"
    }
   ],
   "source": [
    "plt.figure(figsize=(16,6))\n",
    "plt.subplot(121)\n",
    "plt.plot(np.array(results_dpc.index), results_dpc['mean_test_p_percent_score'], label='demographic parity clf')\n",
    "plt.xlabel(\"covariance threshold\")\n",
    "plt.ylabel('p% score')\n",
    "plt.legend()\n",
    "plt.title(\"demographic parity p%\")\n",
    "plt.subplot(122)\n",
    "plt.plot(np.array(results_dpc.index), results_dpc['mean_test_accuracy_score'], label='demographic parity clf')\n",
    "plt.xlabel(\"covariance threshold\")\n",
    "plt.ylabel('accuracy score')\n",
    "plt.legend()\n",
    "plt.title(\"demographic parity accuracy\");"
   ]
  },
  {
   "cell_type": "markdown",
   "id": "c14c7f8a",
   "metadata": {},
   "source": [
    "## Approach 1:  Exploring how feature importance changes as a function of fairness for gender \n",
    "### (measuring feature importance as feature weight * average absolute value of that feature's column)\n"
   ]
  },
  {
   "cell_type": "markdown",
   "id": "3cedb906",
   "metadata": {},
   "source": [
    "In this approach to identifying each feature's contribution to fairness, we will leverage the above relationship between covariance threshold and fairness in order to plot out how feature importance changes relative to fairness. We will accomplish this by training 40 different demographic parity classifier models, each with a different covariance thresholds between 0-0.4 (we see fairness flatlines slightly before a cov threshold of 0.4) in order to achieve a wide range of fairness scores. We will then plot out how feature importance changes as a function of fairness.\n",
    "\n",
    "NOTE: Features that are binary variables (e.g. relationship_husband) will need larger coefficients to affect \n",
    "the final outcome, while features that contain a wide range of values (e.g. age) will have significant\n",
    "impact on the final prediction even when coefficient is small.\n",
    "Therefore, for this approach, we are measuring the overall importance of a feature by multiplying \n",
    "feature weight * absolute value of that feature's column"
   ]
  },
  {
   "cell_type": "code",
   "execution_count": 439,
   "id": "109765cc",
   "metadata": {},
   "outputs": [],
   "source": [
    "# The specified sensitive column of a demographic parity classifier does not receive a coefficient during training,\n",
    "# therefore, our features for the demographic parity classfier will exclude our protected variable, gender.\n",
    "dpc_features = x.columns.drop('gender')"
   ]
  },
  {
   "cell_type": "code",
   "execution_count": 440,
   "id": "bca3960c",
   "metadata": {},
   "outputs": [],
   "source": [
    "# create dictionary where keys are features, and values are an empty list (to be populated later on)\n",
    "feature_dict = {}\n",
    "for feat in dpc_features:\n",
    "    feature_dict[feat] = []"
   ]
  },
  {
   "cell_type": "code",
   "execution_count": 441,
   "id": "e3a66ab7",
   "metadata": {},
   "outputs": [],
   "source": [
    "# covariance thresholds we will be using to train our demographic parity classifier models\n",
    "cov_threshold = np.linspace(0,0.4,40)"
   ]
  },
  {
   "cell_type": "code",
   "execution_count": 442,
   "id": "dbe25344",
   "metadata": {},
   "outputs": [],
   "source": [
    "# build demographic parity models with 60 different covariance thresholds, storing each corresponding\n",
    "# feature importance in the above dictionary, allowing us to see how each feature's importance changes \n",
    "# as a function of fairness \n",
    "for cov in cov_threshold:\n",
    "    model = DemographicParityClassifier(sensitive_cols=\"gender\", covariance_threshold=cov)\n",
    "    model.fit(xtrain, ytrain)\n",
    "    p_percent = p_percent_score(sensitive_column=\"gender\")(model, xtest, ytest)\n",
    "    for coef, feat in zip(model.coef_[0,:],dpc_features):\n",
    "        feature_dict[feat].append([cov,coef*abs(df[feat]).mean(),p_percent])"
   ]
  },
  {
   "cell_type": "code",
   "execution_count": 491,
   "id": "55123065",
   "metadata": {},
   "outputs": [
    {
     "data": {
      "text/plain": [
       "[0.0, 0.2290938821075625, 0.7970393761917376]"
      ]
     },
     "execution_count": 491,
     "metadata": {},
     "output_type": "execute_result"
    }
   ],
   "source": [
    "# format = {'feature': [covariance threshold, feature coef * average abs of feature column, p_percent]}\n",
    "# example:\n",
    "feature_dict['age'][0]"
   ]
  },
  {
   "cell_type": "markdown",
   "id": "a362e7f4",
   "metadata": {},
   "source": [
    "Now that we have the feature importance and fairness for all 40 dpc models, we will plot out how each feature changes from minimal fairness to maximal fairness. That is, for each feature, we will plot (feature importance at minimal fairness - feature importance at maximal fairness)."
   ]
  },
  {
   "cell_type": "code",
   "execution_count": 446,
   "id": "7c3daf1d",
   "metadata": {},
   "outputs": [],
   "source": [
    "# creating a pandas df for each feature\n",
    "df_list = []\n",
    "delta_list = []\n",
    "for feature in feature_dict:\n",
    "    df_ = pd.DataFrame(data = feature_dict[feature], columns = [\"cov\", f\"{feature}_importance\", \"p percent\"])\n",
    "    df_.sort_values('p percent')\n",
    "    df_ = df_.reset_index(drop=True)\n",
    "    most_fair = df_.at[0,f\"{feature}_importance\"]\n",
    "    least_fair = df_.at[39, f\"{feature}_importance\"]\n",
    "    #fairness_delta = most_fair - least_fair\n",
    "    fairness_delta = least_fair - most_fair\n",
    "    delta_list.append(fairness_delta)    \n",
    "feature_fairness_delta = list(zip(feature_dict.keys(),delta_list))\n",
    "feature_fairness_delta_sort = sorted(feature_fairness_delta, key=lambda x : x[1])\n",
    "#feature_fairness_delta_sort\n",
    "features = []\n",
    "delta_importance = []\n",
    "for item in feature_fairness_delta_sort:\n",
    "    features.append(item[0])\n",
    "    delta_importance.append(item[1])"
   ]
  },
  {
   "cell_type": "code",
   "execution_count": 466,
   "id": "7cb08476",
   "metadata": {},
   "outputs": [
    {
     "data": {
      "image/png": "[encoded data removed]",
      "text/plain": [
       "<Figure size 2160x864 with 1 Axes>"
      ]
     },
     "metadata": {
      "needs_background": "light"
     },
     "output_type": "display_data"
    }
   ],
   "source": [
    "figure, ax = plt.subplots(figsize=(30,12))\n",
    "ax.scatter(features, delta_importance)\n",
    "xticks_labels = features\n",
    "ax.set_xticklabels(xticks_labels, rotation=90, fontsize=16)\n",
    "figure.suptitle('Change in feature importance (feature importance at minimal fairness - feature importance at maximal fairness)', fontsize=28)\n",
    "plt.xlabel(\"Features\", fontsize=20)\n",
    "plt.ylabel('Delta feature importance', fontsize=20)\n",
    "ax.axhline(y=0, color=\"red\")\n",
    "plt.show()"
   ]
  },
  {
   "cell_type": "markdown",
   "id": "600504e9",
   "metadata": {},
   "source": [
    "### Interpreting these results"
   ]
  },
  {
   "cell_type": "markdown",
   "id": "80f2a5ef",
   "metadata": {},
   "source": [
    "The above plot shows which features exhibit the greatest change in feature importance between a model achieving minimal fairness vs a model achieving maximal fairness, relative to gender. This means that features that exhibit measureable positive change, such as relationship_Husband, are given less importance in the fair model than they were in the unfair model:"
   ]
  },
  {
   "cell_type": "code",
   "execution_count": 464,
   "id": "05b885a9",
   "metadata": {},
   "outputs": [
    {
     "name": "stdout",
     "output_type": "stream",
     "text": [
      "Relationship Husband feature importance for unfair model =  0.4364293871812866 \n",
      " fairness score = 0.2996007429257564\n"
     ]
    }
   ],
   "source": [
    "print('Relationship Husband feature importance for unfair model = ', feature_dict['relationship_Husband'][39][1], '\\n fairness score =', feature_dict['relationship_Husband'][39][2])"
   ]
  },
  {
   "cell_type": "code",
   "execution_count": 465,
   "id": "ce5ceae0",
   "metadata": {},
   "outputs": [
    {
     "name": "stdout",
     "output_type": "stream",
     "text": [
      "Relationship Husband feature importance for fair model =  0.07638135449359099 \n",
      " fairness score = 0.7970393761917376\n"
     ]
    }
   ],
   "source": [
    "print('Relationship Husband feature importance for fair model = ', feature_dict['relationship_Husband'][0][1], '\\n fairness score =', feature_dict['relationship_Husband'][0][2])"
   ]
  },
  {
   "cell_type": "markdown",
   "id": "4922365f",
   "metadata": {},
   "source": [
    "We see that relationship Husband intially had a feature importance of 0.436 in the unfair model, compared to a much lower feature importance of 0.07638 in the fair model."
   ]
  },
  {
   "cell_type": "markdown",
   "id": "60cbf6d0",
   "metadata": {},
   "source": [
    "Thus, we can interpret features that exhibit measureable positive change in the above plot as the features that were contributing to the bias in the biased model."
   ]
  },
  {
   "cell_type": "markdown",
   "id": "ab22e670",
   "metadata": {},
   "source": [
    "Now that we have insight into which features are contributing to fairness violations, lets plot out the feature importances of these features as a function of fairness:"
   ]
  },
  {
   "cell_type": "code",
   "execution_count": 497,
   "id": "6da7ac99",
   "metadata": {},
   "outputs": [
    {
     "data": {
      "image/png": "[encoded data removed]",
      "text/plain": [
       "<Figure size 1008x1008 with 1 Axes>"
      ]
     },
     "metadata": {
      "needs_background": "light"
     },
     "output_type": "display_data"
    }
   ],
   "source": [
    "fig, ax = plt.subplots(1, 1, sharex=True, sharey=True, figsize=(14,14))\n",
    "\n",
    "for feature in ['relationship_Husband', 'marital-status_Married', 'occupation_Handlers-cleaners', 'relationship_Not-in-family', 'race', 'capital-gain', 'hours-per-week', 'educational-num']:\n",
    "    xs = [x[2] for x in feature_dict[feature]]\n",
    "    ys = [x[1] for x in feature_dict[feature]]\n",
    "    ax.plot(xs,ys,alpha=0.5, label=feature)\n",
    "\n",
    "plt.xlabel(\"p%\")\n",
    "plt.ylabel('feature importance')\n",
    "plt.xlim((0.3, 0.95))\n",
    "ax.legend()\n",
    "ax.set_xlabel(\"p%\")\n",
    "ax.set_ylabel(\"feature importance\")\n",
    "ax.tick_params(labelbottom=True)\n",
    "# ax[0].legend()\n",
    "# ax[0].set_xlabel(\"p%\")\n",
    "# ax[0].set_ylabel(\"feature importance\")\n",
    "# ax[0].tick_params(labelbottom=True)\n",
    "\n",
    "# for feature in ['occupation_Sales', 'relationship_Own-child', 'native-country_United-States', 'relationship_Unmarried', 'occupation_Adm-clerical', 'occupation_Other-service']:\n",
    "#     xs = [x[2] for x in feature_dict[feature]]\n",
    "#     ys = [x[1] for x in feature_dict[feature]]\n",
    "#     ax[1].plot(xs,ys,label=feature)\n",
    "# ax[1].legend()\n",
    "# ax[1].set_xlabel(\"p%\")\n",
    "# ax[1].set_ylabel(\"feature importance\")\n",
    "# ax[1].tick_params(labelbottom=True)"
   ]
  },
  {
   "cell_type": "markdown",
   "id": "8f622191",
   "metadata": {},
   "source": [
    "## Approach 2: Fairness Decomposition based on Model Difference Regression"
   ]
  },
  {
   "cell_type": "markdown",
   "id": "91d796e5",
   "metadata": {},
   "source": [
    "As shown in the above benchmark results, we have two different logisitic regression models which achieved drastically different fairness scores relative to gender. The first model, which we will refer to as the biased model, is the original logisitic regression model, which achieved a fairness score of 0.287 relative to gender. The second model, which we will refer to as the debiased model, is a logisitic regression model with a fairness constraint on gender, which achieved a fairness score of 0.797 relative to gender. Note: 0.797 is the maximal fairness score I was able to achieve using the demographic parity classifier (logisitic regression with fairness constraint), which is why we are using this as our debiased model. \n",
    "\n",
    "The goal of this fairness decomposition is to create a decomposition model that models the log odds of the debiased model using the log odds of the biased model and the original data. We will then use the learned coefficients of this decomposition model to evaluate the contributions of each feature in debiasing. Our decomposition model will take the form of:\n",
    "\n",
    "\n",
    "$$log\\ odds_{debiased} \\thicksim log\\ odds_{biased} + \\beta_0 + \\beta_1*x_1 + \\beta_2*x_2 + \\cdots + \\beta_n *x_n$$\n",
    "which is equivalent to:\n",
    "$$log\\ odds_{debiased} - log\\ odds_{biased} \\thicksim \\beta_0 + \\beta_1*x_1 + \\beta_2*x_2 + \\cdots + \\beta_n *x_n$$\n",
    "\n",
    "\n",
    "Because our decomposition model is converting a biased model into a fair model, we can use the learned coefficients of the decomposition model to evalute the contributions of each feature in debiasing using the following metrics, where A represents the outcome class:\n",
    "\n",
    "\n",
    "x_1  :           beta_1  *  [  Mean( x_1 | A = 0)  -  Mean(  x_1  | A = 1)  ]\n",
    "\n",
    "x_2  :           beta_2  *  [  Mean( x_2 | A = 0)  -  Mean(  x_2  | A = 1)  ]\n",
    "\n",
    "...\n",
    "\n",
    "x_n  :           beta_n  *  [  Mean( x_n | A = 0)  -  Mean(  x_n  | A = 1)  ]\n"
   ]
  },
  {
   "cell_type": "code",
   "execution_count": 174,
   "id": "55661e0f",
   "metadata": {},
   "outputs": [],
   "source": [
    "biased_model = LogisticRegression(max_iter=5000)\n",
    "debiased_model = DemographicParityClassifier(sensitive_cols=['gender'], covariance_threshold=0.0000069)"
   ]
  },
  {
   "cell_type": "code",
   "execution_count": 175,
   "id": "f595be83",
   "metadata": {},
   "outputs": [
    {
     "data": {
      "text/plain": [
       "OneVsRestClassifier(estimator=_DemographicParityClassifier(covariance_threshold=6.9e-06,\n",
       "                                                           sensitive_cols=['gender']),\n",
       "                    n_jobs=1)"
      ]
     },
     "execution_count": 175,
     "metadata": {},
     "output_type": "execute_result"
    }
   ],
   "source": [
    "biased_model.fit(x,y)\n",
    "debiased_model.fit(x,y)"
   ]
  },
  {
   "cell_type": "code",
   "execution_count": 176,
   "id": "27aceab9",
   "metadata": {},
   "outputs": [],
   "source": [
    "beta_transpose_biased = np.transpose(biased_model.coef_)\n",
    "beta_transpose_debiased = np.transpose(debiased_model.coef_)"
   ]
  },
  {
   "cell_type": "code",
   "execution_count": 177,
   "id": "efbd2a7e",
   "metadata": {},
   "outputs": [],
   "source": [
    "dpc_data = x.drop('gender', axis=1)"
   ]
  },
  {
   "cell_type": "code",
   "execution_count": 179,
   "id": "981b29d2",
   "metadata": {},
   "outputs": [],
   "source": [
    "log_odds_biased = x @ beta_transpose_biased\n",
    "log_odds_debiased = dpc_data @ beta_transpose_debiased"
   ]
  },
  {
   "cell_type": "code",
   "execution_count": 180,
   "id": "23bd515b",
   "metadata": {},
   "outputs": [],
   "source": [
    "y_mod_diff = log_odds_debiased - log_odds_biased"
   ]
  },
  {
   "cell_type": "code",
   "execution_count": 181,
   "id": "3922bf6a",
   "metadata": {},
   "outputs": [],
   "source": [
    "model_difference = LinearRegression()"
   ]
  },
  {
   "cell_type": "code",
   "execution_count": 182,
   "id": "12926e4e",
   "metadata": {},
   "outputs": [
    {
     "data": {
      "text/plain": [
       "LinearRegression()"
      ]
     },
     "execution_count": 182,
     "metadata": {},
     "output_type": "execute_result"
    }
   ],
   "source": [
    "model_difference.fit(x, y_mod_diff)"
   ]
  },
  {
   "cell_type": "code",
   "execution_count": 183,
   "id": "d15ccd9e",
   "metadata": {},
   "outputs": [
    {
     "data": {
      "text/plain": [
       "array([[-6.87690574e-02, -5.21697387e-02, -9.29050611e-02,\n",
       "        -2.02182865e-01, -7.49261657e-01, -8.67326291e-01,\n",
       "        -3.94528365e-02, -1.45608621e-01,  5.85437020e-02,\n",
       "         9.72139787e-02,  6.01734056e-02, -1.84697437e-01,\n",
       "        -3.73654905e-01,  9.73012800e-02,  5.90955867e-02,\n",
       "         3.49843681e-01,  7.19063254e-01, -2.52312853e-01,\n",
       "        -2.03185089e-01,  1.93359262e-01, -9.05139774e-01,\n",
       "        -4.07543359e+00,  7.86012737e-02,  1.19061509e+00,\n",
       "         2.53154661e+00,  2.55790158e-01,  5.83222950e-02,\n",
       "         3.64359796e-01,  2.17387120e-01, -2.16937385e-01,\n",
       "        -5.50740718e-01, -3.35123029e-01,  1.08843130e-03,\n",
       "         4.36743979e-01,  4.18738639e-01, -9.40795607e-03,\n",
       "        -5.62017665e-02,  5.96135897e-02]])"
      ]
     },
     "execution_count": 183,
     "metadata": {},
     "output_type": "execute_result"
    }
   ],
   "source": [
    "model_difference.coef_"
   ]
  },
  {
   "cell_type": "code",
   "execution_count": 184,
   "id": "f47af759",
   "metadata": {},
   "outputs": [
    {
     "data": {
      "text/plain": [
       "(1, 38)"
      ]
     },
     "execution_count": 184,
     "metadata": {},
     "output_type": "execute_result"
    }
   ],
   "source": [
    "model_difference.coef_.shape"
   ]
  },
  {
   "cell_type": "code",
   "execution_count": 501,
   "id": "e2c2ab11",
   "metadata": {},
   "outputs": [],
   "source": [
    "feat_dict = {}\n",
    "for feat in x.columns:\n",
    "    feat_dict[feat] = []\n"
   ]
  },
  {
   "cell_type": "code",
   "execution_count": 502,
   "id": "5fa7f201",
   "metadata": {},
   "outputs": [],
   "source": [
    "for coef, feat in zip(model_difference.coef_[0,:], x.columns):\n",
    "    # [Mean( x_n | A = 0) - Mean( x_n | A = 1)]\n",
    "    mean_feat_given_class_diff = df[feat].loc[df['income'] == 0].mean() - df[feat].loc[df['income'] == 1].mean()\n",
    "    feat_dict[feat].append(coef*mean_feat_given_class_diff)\n",
    "    "
   ]
  },
  {
   "cell_type": "code",
   "execution_count": 504,
   "id": "995f4ffa",
   "metadata": {},
   "outputs": [
    {
     "data": {
      "text/html": [
       "<div>\n",
       "<style scoped>\n",
       "    .dataframe tbody tr th:only-of-type {\n",
       "        vertical-align: middle;\n",
       "    }\n",
       "\n",
       "    .dataframe tbody tr th {\n",
       "        vertical-align: top;\n",
       "    }\n",
       "\n",
       "    .dataframe thead th {\n",
       "        text-align: right;\n",
       "    }\n",
       "</style>\n",
       "<table border=\"1\" class=\"dataframe\">\n",
       "  <thead>\n",
       "    <tr style=\"text-align: right;\">\n",
       "      <th></th>\n",
       "      <th>feature contribution</th>\n",
       "    </tr>\n",
       "  </thead>\n",
       "  <tbody>\n",
       "    <tr>\n",
       "      <th>capital-gain</th>\n",
       "      <td>0.443153</td>\n",
       "    </tr>\n",
       "    <tr>\n",
       "      <th>relationship_Husband</th>\n",
       "      <td>0.253983</td>\n",
       "    </tr>\n",
       "    <tr>\n",
       "      <th>marital-status_Married</th>\n",
       "      <td>0.189717</td>\n",
       "    </tr>\n",
       "    <tr>\n",
       "      <th>gender</th>\n",
       "      <td>0.176233</td>\n",
       "    </tr>\n",
       "    <tr>\n",
       "      <th>occupation_Other-service</th>\n",
       "      <td>0.140575</td>\n",
       "    </tr>\n",
       "    <tr>\n",
       "      <th>relationship_Own-child</th>\n",
       "      <td>0.079926</td>\n",
       "    </tr>\n",
       "    <tr>\n",
       "      <th>hours-per-week</th>\n",
       "      <td>0.076834</td>\n",
       "    </tr>\n",
       "    <tr>\n",
       "      <th>educational-num</th>\n",
       "      <td>0.071620</td>\n",
       "    </tr>\n",
       "    <tr>\n",
       "      <th>occupation_Adm-clerical</th>\n",
       "      <td>0.052945</td>\n",
       "    </tr>\n",
       "    <tr>\n",
       "      <th>relationship_Unmarried</th>\n",
       "      <td>0.043613</td>\n",
       "    </tr>\n",
       "    <tr>\n",
       "      <th>age</th>\n",
       "      <td>0.037804</td>\n",
       "    </tr>\n",
       "    <tr>\n",
       "      <th>marital-status_Never-married</th>\n",
       "      <td>0.033638</td>\n",
       "    </tr>\n",
       "    <tr>\n",
       "      <th>occupation_Priv-house-serv</th>\n",
       "      <td>0.016488</td>\n",
       "    </tr>\n",
       "    <tr>\n",
       "      <th>capital-loss</th>\n",
       "      <td>0.013537</td>\n",
       "    </tr>\n",
       "    <tr>\n",
       "      <th>race</th>\n",
       "      <td>0.013007</td>\n",
       "    </tr>\n",
       "    <tr>\n",
       "      <th>workclass_Private</th>\n",
       "      <td>0.011501</td>\n",
       "    </tr>\n",
       "    <tr>\n",
       "      <th>marital-status_Separated</th>\n",
       "      <td>0.008206</td>\n",
       "    </tr>\n",
       "    <tr>\n",
       "      <th>marital-status_Widowed</th>\n",
       "      <td>0.008103</td>\n",
       "    </tr>\n",
       "    <tr>\n",
       "      <th>occupation_Machine-op-inspct</th>\n",
       "      <td>0.003413</td>\n",
       "    </tr>\n",
       "    <tr>\n",
       "      <th>relationship_Wife</th>\n",
       "      <td>0.000551</td>\n",
       "    </tr>\n",
       "    <tr>\n",
       "      <th>relationship_Other-relative</th>\n",
       "      <td>0.000035</td>\n",
       "    </tr>\n",
       "    <tr>\n",
       "      <th>occupation_Armed-Forces</th>\n",
       "      <td>0.000024</td>\n",
       "    </tr>\n",
       "    <tr>\n",
       "      <th>workclass_Without-pay</th>\n",
       "      <td>-0.000068</td>\n",
       "    </tr>\n",
       "    <tr>\n",
       "      <th>occupation_Protective-serv</th>\n",
       "      <td>-0.000449</td>\n",
       "    </tr>\n",
       "    <tr>\n",
       "      <th>fnlwgt</th>\n",
       "      <td>-0.001141</td>\n",
       "    </tr>\n",
       "    <tr>\n",
       "      <th>occupation_Tech-support</th>\n",
       "      <td>-0.001477</td>\n",
       "    </tr>\n",
       "    <tr>\n",
       "      <th>native-country_Not United-States</th>\n",
       "      <td>-0.001594</td>\n",
       "    </tr>\n",
       "    <tr>\n",
       "      <th>native-country_United-States</th>\n",
       "      <td>-0.001691</td>\n",
       "    </tr>\n",
       "    <tr>\n",
       "      <th>occupation_Transport-moving</th>\n",
       "      <td>-0.002463</td>\n",
       "    </tr>\n",
       "    <tr>\n",
       "      <th>workclass_Govt_employees</th>\n",
       "      <td>-0.002630</td>\n",
       "    </tr>\n",
       "    <tr>\n",
       "      <th>occupation_Craft-repair</th>\n",
       "      <td>-0.003417</td>\n",
       "    </tr>\n",
       "    <tr>\n",
       "      <th>workclass_Self_employed</th>\n",
       "      <td>-0.004437</td>\n",
       "    </tr>\n",
       "    <tr>\n",
       "      <th>occupation_Sales</th>\n",
       "      <td>-0.005636</td>\n",
       "    </tr>\n",
       "    <tr>\n",
       "      <th>occupation_Farming-fishing</th>\n",
       "      <td>-0.020997</td>\n",
       "    </tr>\n",
       "    <tr>\n",
       "      <th>occupation_Exec-managerial</th>\n",
       "      <td>-0.032123</td>\n",
       "    </tr>\n",
       "    <tr>\n",
       "      <th>occupation_Prof-specialty</th>\n",
       "      <td>-0.036103</td>\n",
       "    </tr>\n",
       "    <tr>\n",
       "      <th>relationship_Not-in-family</th>\n",
       "      <td>-0.067270</td>\n",
       "    </tr>\n",
       "    <tr>\n",
       "      <th>occupation_Handlers-cleaners</th>\n",
       "      <td>-0.180680</td>\n",
       "    </tr>\n",
       "  </tbody>\n",
       "</table>\n",
       "</div>"
      ],
      "text/plain": [
       "                                  feature contribution\n",
       "capital-gain                                  0.443153\n",
       "relationship_Husband                          0.253983\n",
       "marital-status_Married                        0.189717\n",
       "gender                                        0.176233\n",
       "occupation_Other-service                      0.140575\n",
       "relationship_Own-child                        0.079926\n",
       "hours-per-week                                0.076834\n",
       "educational-num                               0.071620\n",
       "occupation_Adm-clerical                       0.052945\n",
       "relationship_Unmarried                        0.043613\n",
       "age                                           0.037804\n",
       "marital-status_Never-married                  0.033638\n",
       "occupation_Priv-house-serv                    0.016488\n",
       "capital-loss                                  0.013537\n",
       "race                                          0.013007\n",
       "workclass_Private                             0.011501\n",
       "marital-status_Separated                      0.008206\n",
       "marital-status_Widowed                        0.008103\n",
       "occupation_Machine-op-inspct                  0.003413\n",
       "relationship_Wife                             0.000551\n",
       "relationship_Other-relative                   0.000035\n",
       "occupation_Armed-Forces                       0.000024\n",
       "workclass_Without-pay                        -0.000068\n",
       "occupation_Protective-serv                   -0.000449\n",
       "fnlwgt                                       -0.001141\n",
       "occupation_Tech-support                      -0.001477\n",
       "native-country_Not United-States             -0.001594\n",
       "native-country_United-States                 -0.001691\n",
       "occupation_Transport-moving                  -0.002463\n",
       "workclass_Govt_employees                     -0.002630\n",
       "occupation_Craft-repair                      -0.003417\n",
       "workclass_Self_employed                      -0.004437\n",
       "occupation_Sales                             -0.005636\n",
       "occupation_Farming-fishing                   -0.020997\n",
       "occupation_Exec-managerial                   -0.032123\n",
       "occupation_Prof-specialty                    -0.036103\n",
       "relationship_Not-in-family                   -0.067270\n",
       "occupation_Handlers-cleaners                 -0.180680"
      ]
     },
     "execution_count": 504,
     "metadata": {},
     "output_type": "execute_result"
    }
   ],
   "source": [
    "mod_diff_df = pd.DataFrame.from_dict(feat_dict, orient='index', columns=['feature contribution'])\n",
    "mod_diff_df.sort_values(by=['feature contribution'], ascending=False)"
   ]
  },
  {
   "cell_type": "markdown",
   "id": "140b238a",
   "metadata": {},
   "source": [
    "## Interpreting these results"
   ]
  },
  {
   "cell_type": "markdown",
   "id": "1828d480",
   "metadata": {},
   "source": [
    "These results imply that capital-gain, relationship_Husband, and marital-status_Married are contributing the most to fairness violations in the original debiased model, which is consistent with the results of the above approach. That being said, it's surprising to me that there are features that have higher contributions than gender (capital-gain, relationship_Husband, marital-status_Married) for fairness violations relative to gender. This could be due to the scaling methods I used in preprocessing, but I'm not entirely sure yet. In any case, I think it's worth exploring further."
   ]
  },
  {
   "cell_type": "markdown",
   "id": "316e897a",
   "metadata": {},
   "source": [
    "It's also interesting that the results of this approach seem to imply that the occupation_Handlers-cleaners is the feature that contributes the most to fairness (not fairness violations), which is not at all consistent with the above approach. In fact, it is the opposite of what the above approach implied. It's worth noting that the shapley value approach also showed this result with regards to occupation_Handlers-cleaners (I removed that approach from the jupyter notebook because I didn't feel that I had a deep enough understanding of shapley values to be able to talk about the implications comfortably, though I plan to add it back in after I do more research)."
   ]
  },
  {
   "cell_type": "markdown",
   "id": "cfd6723e",
   "metadata": {},
   "source": [
    "## Quick analysis of Occupation_Handlers-cleaners"
   ]
  },
  {
   "cell_type": "markdown",
   "id": "a5692fbb",
   "metadata": {},
   "source": [
    "Occupation_Handlers-cleaners is a binary variable, where 1 indicates that the individual's occupation is Handlers-cleaners, and 0 indicates that it is not their occupation"
   ]
  },
  {
   "cell_type": "code",
   "execution_count": 505,
   "id": "561ad658",
   "metadata": {},
   "outputs": [
    {
     "data": {
      "text/plain": [
       "1958"
      ]
     },
     "execution_count": 505,
     "metadata": {},
     "output_type": "execute_result"
    }
   ],
   "source": [
    "len(df[df['occupation_Handlers-cleaners'] == 1])"
   ]
  },
  {
   "cell_type": "code",
   "execution_count": 506,
   "id": "69e4e932",
   "metadata": {},
   "outputs": [
    {
     "data": {
      "text/plain": [
       "43131"
      ]
     },
     "execution_count": 506,
     "metadata": {},
     "output_type": "execute_result"
    }
   ],
   "source": [
    "len(df)"
   ]
  },
  {
   "cell_type": "markdown",
   "id": "f11befe4",
   "metadata": {},
   "source": [
    "We see that out of the 43131 individuals in the dataset, 1958 are Handlers-cleaers"
   ]
  },
  {
   "cell_type": "code",
   "execution_count": 507,
   "id": "3ceb66cd",
   "metadata": {},
   "outputs": [
    {
     "data": {
      "text/plain": [
       "1722"
      ]
     },
     "execution_count": 507,
     "metadata": {},
     "output_type": "execute_result"
    }
   ],
   "source": [
    "len(df[df['occupation_Handlers-cleaners'] == 1].loc[df['gender']==1])"
   ]
  },
  {
   "cell_type": "markdown",
   "id": "22c39c04",
   "metadata": {},
   "source": [
    "Furthermore, of the 1958 individuals that are Handlers-cleaners, 1722 are males, which is 88%. This suggests its a pretty strong indicator of gender. "
   ]
  },
  {
   "cell_type": "code",
   "execution_count": 519,
   "id": "18bfecdb",
   "metadata": {},
   "outputs": [
    {
     "data": {
      "text/plain": [
       "1706"
      ]
     },
     "execution_count": 519,
     "metadata": {},
     "output_type": "execute_result"
    }
   ],
   "source": [
    "len(df[df['occupation_Handlers-cleaners'] == 1].loc[df['race']==1])"
   ]
  },
  {
   "cell_type": "markdown",
   "id": "62083c1f",
   "metadata": {},
   "source": [
    "We also see that 1706/1958 occupation_Handlers-cleaners are white, which suggest it is also a pretty strong indicator of race."
   ]
  },
  {
   "cell_type": "markdown",
   "id": "c01e9947",
   "metadata": {},
   "source": [
    "Let's see how the biased model and debiased model's predictions of occupation_Handlers-cleaners differ:"
   ]
  },
  {
   "cell_type": "code",
   "execution_count": 508,
   "id": "435aa46c",
   "metadata": {},
   "outputs": [],
   "source": [
    "# biased model\n",
    "log_clf = LogisticRegression(max_iter=5000)\n",
    "log_clf.fit(x,y)\n",
    "handlers_pred_biased = log_clf.predict(x[x['occupation_Handlers-cleaners']==1])"
   ]
  },
  {
   "cell_type": "code",
   "execution_count": 510,
   "id": "a8541cab",
   "metadata": {},
   "outputs": [
    {
     "data": {
      "text/plain": [
       "0    1929\n",
       "1      29\n",
       "dtype: int64"
      ]
     },
     "execution_count": 510,
     "metadata": {},
     "output_type": "execute_result"
    }
   ],
   "source": [
    "df_handlers_biased = pd.DataFrame(data=handlers_pred_biased)\n",
    "df_handlers_biased.value_counts()"
   ]
  },
  {
   "cell_type": "markdown",
   "id": "69d85a28",
   "metadata": {},
   "source": [
    "We see that the biased model predicted that 29 of the 1958 occupation_Handlers-cleaners made over 50K"
   ]
  },
  {
   "cell_type": "code",
   "execution_count": 511,
   "id": "9148a819",
   "metadata": {},
   "outputs": [],
   "source": [
    "fair_clf = DemographicParityClassifier(sensitive_cols=\"gender\", covariance_threshold=0)\n",
    "fair_clf.fit(x,y)\n",
    "handlers_pred_fair = fair_clf.predict(x[x['occupation_Handlers-cleaners']==1])"
   ]
  },
  {
   "cell_type": "code",
   "execution_count": 512,
   "id": "0b4ba945",
   "metadata": {},
   "outputs": [
    {
     "data": {
      "text/plain": [
       "0    1956\n",
       "1       2\n",
       "dtype: int64"
      ]
     },
     "execution_count": 512,
     "metadata": {},
     "output_type": "execute_result"
    }
   ],
   "source": [
    "df_handlers_fair = pd.DataFrame(data=handlers_pred_fair)\n",
    "df_handlers_fair.value_counts()"
   ]
  },
  {
   "cell_type": "markdown",
   "id": "7017c464",
   "metadata": {},
   "source": [
    "We see that the fair model predicted that only 2 of the 1958 handlers-cleaners made over 50K"
   ]
  },
  {
   "cell_type": "markdown",
   "id": "50d0a715",
   "metadata": {},
   "source": [
    "Given that occupation_Handlers-cleaners is a pretty strong indicator of being male, the results of this latest approach regarding occupation_Handlers-cleaners still do not make sense to me. Will have to do further investigation"
   ]
  },
  {
   "cell_type": "code",
   "execution_count": null,
   "id": "ca655929",
   "metadata": {},
   "outputs": [],
   "source": []
  }
 ],
 "metadata": {
  "kernelspec": {
   "display_name": "Python 3 (ipykernel)",
   "language": "python",
   "name": "python3"
  },
  "language_info": {
   "codemirror_mode": {
    "name": "ipython",
    "version": 3
   },
   "file_extension": ".py",
   "mimetype": "text/x-python",
   "name": "python",
   "nbconvert_exporter": "python",
   "pygments_lexer": "ipython3",
   "version": "3.8.5"
  }
 },
 "nbformat": 4,
 "nbformat_minor": 5
}
